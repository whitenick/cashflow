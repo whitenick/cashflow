{
 "nbformat": 4,
 "nbformat_minor": 2,
 "metadata": {
  "language_info": {
   "name": "python",
   "codemirror_mode": {
    "name": "ipython",
    "version": 3
   },
   "version": "3.7.4-final"
  },
  "orig_nbformat": 2,
  "file_extension": ".py",
  "mimetype": "text/x-python",
  "name": "python",
  "npconvert_exporter": "python",
  "pygments_lexer": "ipython3",
  "version": 3,
  "kernelspec": {
   "name": "python3",
   "display_name": "Python 3"
  }
 },
 "cells": [
  {
   "cell_type": "code",
   "execution_count": 5,
   "metadata": {},
   "outputs": [
    {
     "output_type": "execute_result",
     "data": {
      "text/plain": "                       Name                  Sector\nSymbol                                             \nMMM              3M Company             Industrials\nAOS         A.O. Smith Corp             Industrials\nABT     Abbott Laboratories             Health Care\nABBV            AbbVie Inc.             Health Care\nACN           Accenture plc  Information Technology",
      "text/html": "<div>\n<style scoped>\n    .dataframe tbody tr th:only-of-type {\n        vertical-align: middle;\n    }\n\n    .dataframe tbody tr th {\n        vertical-align: top;\n    }\n\n    .dataframe thead th {\n        text-align: right;\n    }\n</style>\n<table border=\"1\" class=\"dataframe\">\n  <thead>\n    <tr style=\"text-align: right;\">\n      <th></th>\n      <th>Name</th>\n      <th>Sector</th>\n    </tr>\n    <tr>\n      <th>Symbol</th>\n      <th></th>\n      <th></th>\n    </tr>\n  </thead>\n  <tbody>\n    <tr>\n      <td>MMM</td>\n      <td>3M Company</td>\n      <td>Industrials</td>\n    </tr>\n    <tr>\n      <td>AOS</td>\n      <td>A.O. Smith Corp</td>\n      <td>Industrials</td>\n    </tr>\n    <tr>\n      <td>ABT</td>\n      <td>Abbott Laboratories</td>\n      <td>Health Care</td>\n    </tr>\n    <tr>\n      <td>ABBV</td>\n      <td>AbbVie Inc.</td>\n      <td>Health Care</td>\n    </tr>\n    <tr>\n      <td>ACN</td>\n      <td>Accenture plc</td>\n      <td>Information Technology</td>\n    </tr>\n  </tbody>\n</table>\n</div>"
     },
     "metadata": {},
     "execution_count": 5
    }
   ],
   "source": [
    "import pandas as pd \n",
    "import requests\n",
    "import json\n",
    "\n",
    "financial_url = 'https://financialmodelingprep.com/api/v3/'\n",
    "\n",
    "sp = pd.read_csv('../data/constituents.csv', index_col='Symbol')\n",
    "\n",
    "sp.head()"
   ]
  },
  {
   "cell_type": "code",
   "execution_count": 26,
   "metadata": {},
   "outputs": [],
   "source": [
    "resp = requests.request('GET', financial_url + 'company/profile/{}'.format(sp.iloc[0].name))\n",
    "\n",
    "def setCompanyProfile(series, companyProfile):\n",
    "    series['price'] = companyProfile['price']\n",
    "    series['beta'] = companyProfile['beta']\n",
    "    series['mktCap'] = companyProfile['mktCap']\n",
    "    series['lastDiv'] = companyProfile['lastDiv']\n",
    "    return series"
   ]
  },
  {
   "cell_type": "code",
   "execution_count": 45,
   "metadata": {},
   "outputs": [],
   "source": [
    "stock_history = pd.DataFrame()"
   ]
  },
  {
   "cell_type": "code",
   "execution_count": 50,
   "metadata": {
    "tags": [
     "outputPrepend",
     "outputPrepend",
     "outputPrepend",
     "outputPrepend",
     "outputPrepend",
     "outputPrepend",
     "outputPrepend"
    ]
   },
   "outputs": [
    {
     "output_type": "stream",
     "name": "stdout",
     "text": "gh': 181.91, 'low': 178.63, 'close': 179.39, 'adjClose': 177.78, 'volume': 3367700.0, 'unadjustedVolume': 3367700.0, 'change': -2.46, 'changePercent': -1.353, 'vwap': 179.97667, 'label': 'January 21, 20', 'changeOverTime': -0.01353}\n{'date': '2020-01-22', 'open': 179.51, 'high': 180.57, 'low': 177.88, 'close': 178.03, 'adjClose': 176.43, 'volume': 2420200.0, 'unadjustedVolume': 2420200.0, 'change': -1.48, 'changePercent': -0.824, 'vwap': 178.82667, 'label': 'January 22, 20', 'changeOverTime': -0.00824}\n{'date': '2020-01-23', 'open': 177.07, 'high': 178.44, 'low': 176.39, 'close': 177.74, 'adjClose': 176.14, 'volume': 2358400.0, 'unadjustedVolume': 2358400.0, 'change': 0.67, 'changePercent': 0.378, 'vwap': 177.52333, 'label': 'January 23, 20', 'changeOverTime': 0.00378}\n{'date': '2020-01-24', 'open': 178.49, 'high': 179.81, 'low': 177.53, 'close': 178.15, 'adjClose': 176.55, 'volume': 2643100.0, 'unadjustedVolume': 2643100.0, 'change': -0.34, 'changePercent': -0.19, 'vwap': 178.49667, 'label': 'January 24, 20', 'changeOverTime': -0.0019}\n{'date': '2020-01-27', 'open': 179.86, 'high': 180.59, 'low': 175.54, 'close': 175.63, 'adjClose': 174.05, 'volume': 4361400.0, 'unadjustedVolume': 4361400.0, 'change': -4.23, 'changePercent': -2.352, 'vwap': 177.25333, 'label': 'January 27, 20', 'changeOverTime': -0.02352}\n{'date': '2020-01-28', 'open': 171.9, 'high': 172.34, 'low': 165.05, 'close': 165.58, 'adjClose': 164.09, 'volume': 8920700.0, 'unadjustedVolume': 8920700.0, 'change': -6.32, 'changePercent': -3.677, 'vwap': 167.65667, 'label': 'January 28, 20', 'changeOverTime': -0.03677}\n{'date': '2020-01-29', 'open': 166.35, 'high': 166.47, 'low': 161.53, 'close': 162.0, 'adjClose': 160.55, 'volume': 5343900.0, 'unadjustedVolume': 5343900.0, 'change': -4.35, 'changePercent': -2.615, 'vwap': 163.33333, 'label': 'January 29, 20', 'changeOverTime': -0.02615}\n{'date': '2020-01-30', 'open': 161.0, 'high': 162.64, 'low': 158.76, 'close': 162.51, 'adjClose': 161.05, 'volume': 4357100.0, 'unadjustedVolume': 4357100.0, 'change': 1.51, 'changePercent': 0.938, 'vwap': 161.30333, 'label': 'January 30, 20', 'changeOverTime': 0.00938}\n{'date': '2020-01-31', 'open': 162.0, 'high': 162.65, 'low': 158.23, 'close': 158.66, 'adjClose': 157.24, 'volume': 5740300.0, 'unadjustedVolume': 5740300.0, 'change': -3.34, 'changePercent': -2.062, 'vwap': 159.84667, 'label': 'January 31, 20', 'changeOverTime': -0.02062}\n{'date': '2020-02-03', 'open': 160.03, 'high': 160.31, 'low': 156.38, 'close': 156.59, 'adjClose': 155.18, 'volume': 3927100.0, 'unadjustedVolume': 3927100.0, 'change': -3.44, 'changePercent': -2.15, 'vwap': 157.76, 'label': 'February 03, 20', 'changeOverTime': -0.0215}\n{'date': '2020-02-04', 'open': 159.77, 'high': 159.96, 'low': 157.0, 'close': 157.24, 'adjClose': 155.83, 'volume': 4363900.0, 'unadjustedVolume': 4363900.0, 'change': -2.53, 'changePercent': -1.584, 'vwap': 158.06667, 'label': 'February 04, 20', 'changeOverTime': -0.01584}\n{'date': '2020-02-05', 'open': 159.12, 'high': 162.33, 'low': 158.7, 'close': 162.33, 'adjClose': 160.87, 'volume': 3118200.0, 'unadjustedVolume': 3118200.0, 'change': 3.21, 'changePercent': 2.017, 'vwap': 161.12, 'label': 'February 05, 20', 'changeOverTime': 0.02017}\n{'date': '2020-02-06', 'open': 164.49, 'high': 165.0, 'low': 162.47, 'close': 162.89, 'adjClose': 161.43, 'volume': 3413800.0, 'unadjustedVolume': 3413800.0, 'change': -1.6, 'changePercent': -0.973, 'vwap': 163.45333, 'label': 'February 06, 20', 'changeOverTime': -0.00973}\n{'date': '2020-02-07', 'open': 161.41, 'high': 161.92, 'low': 159.63, 'close': 160.08, 'adjClose': 158.64, 'volume': 2736200.0, 'unadjustedVolume': 2736200.0, 'change': -1.33, 'changePercent': -0.824, 'vwap': 160.54333, 'label': 'February 07, 20', 'changeOverTime': -0.00824}\n{'date': '2020-02-10', 'open': 160.21, 'high': 161.26, 'low': 158.87, 'close': 160.15, 'adjClose': 158.71, 'volume': 2754800.0, 'unadjustedVolume': 2754800.0, 'change': -0.06, 'changePercent': -0.037, 'vwap': 160.09333, 'label': 'February 10, 20', 'changeOverTime': -0.00037}\n{'date': '2020-02-11', 'open': 161.0, 'high': 162.52, 'low': 160.02, 'close': 162.45, 'adjClose': 160.99, 'volume': 2275100.0, 'unadjustedVolume': 2275100.0, 'change': 1.45, 'changePercent': 0.901, 'vwap': 161.66333, 'label': 'February 11, 20', 'changeOverTime': 0.00901}\n{'date': '2020-02-12', 'open': 164.24, 'high': 165.04, 'low': 163.57, 'close': 163.8, 'adjClose': 162.33, 'volume': 2736400.0, 'unadjustedVolume': 2736400.0, 'change': -0.44, 'changePercent': -0.268, 'vwap': 164.13667, 'label': 'February 12, 20', 'changeOverTime': -0.00268}\n{'date': '2020-02-13', 'open': 161.76, 'high': 161.87, 'low': 159.0, 'close': 159.76, 'adjClose': 159.76, 'volume': 3413900.0, 'unadjustedVolume': 3413900.0, 'change': -2.0, 'changePercent': -1.236, 'vwap': 160.21, 'label': 'February 13, 20', 'changeOverTime': -0.01236}\n{'date': '2020-02-14', 'open': 159.85, 'high': 161.14, 'low': 158.82, 'close': 161.01, 'adjClose': 161.01, 'volume': 2233500.0, 'unadjustedVolume': 2233500.0, 'change': 1.16, 'changePercent': 0.726, 'vwap': 160.32333, 'label': 'February 14, 20', 'changeOverTime': 0.00726}\n{'date': '2020-02-18', 'open': 160.36, 'high': 160.53, 'low': 158.04, 'close': 158.88, 'adjClose': 158.88, 'volume': 2478900.0, 'unadjustedVolume': 2478900.0, 'change': -1.48, 'changePercent': -0.923, 'vwap': 159.15, 'label': 'February 18, 20', 'changeOverTime': -0.00923}\n{'date': '2020-02-19', 'open': 159.08, 'high': 160.47, 'low': 158.36, 'close': 159.34, 'adjClose': 159.34, 'volume': 2296400.0, 'unadjustedVolume': 2296400.0, 'change': 0.26, 'changePercent': 0.163, 'vwap': 159.39, 'label': 'February 19, 20', 'changeOverTime': 0.00163}\n{'date': '2020-02-20', 'open': 159.0, 'high': 161.39, 'low': 158.5, 'close': 158.56, 'adjClose': 158.56, 'volume': 3275100.0, 'unadjustedVolume': 3275100.0, 'change': -0.44, 'changePercent': -0.277, 'vwap': 159.48333, 'label': 'February 20, 20', 'changeOverTime': -0.00277}\n{'date': '2020-02-21', 'open': 158.33, 'high': 158.59, 'low': 156.12, 'close': 156.93, 'adjClose': 156.93, 'volume': 3535300.0, 'unadjustedVolume': 3535300.0, 'change': -1.4, 'changePercent': -0.884, 'vwap': 157.21333, 'label': 'February 21, 20', 'changeOverTime': -0.00884}\n{'date': '2020-02-24', 'open': 154.45, 'high': 154.71, 'low': 152.22, 'close': 152.55, 'adjClose': 152.55, 'volume': 3635600.0, 'unadjustedVolume': 3635600.0, 'change': -1.9, 'changePercent': -1.23, 'vwap': 153.16, 'label': 'February 24, 20', 'changeOverTime': -0.0123}\n{'date': '2020-02-25', 'open': 153.31, 'high': 153.44, 'low': 145.97, 'close': 146.85, 'adjClose': 146.85, 'volume': 5263400.0, 'unadjustedVolume': 5263400.0, 'change': -6.46, 'changePercent': -4.214, 'vwap': 148.75333, 'label': 'February 25, 20', 'changeOverTime': -0.04214}\n{'date': '2020-02-26', 'open': 149.57, 'high': 151.82, 'low': 148.09, 'close': 148.96, 'adjClose': 148.96, 'volume': 5152100.0, 'unadjustedVolume': 5152100.0, 'change': -0.61, 'changePercent': -0.408, 'vwap': 149.62333, 'label': 'February 26, 20', 'changeOverTime': -0.00408}\n{'date': '2020-02-27', 'open': 151.23, 'high': 155.43, 'low': 149.0, 'close': 150.16, 'adjClose': 150.16, 'volume': 8241600.0, 'unadjustedVolume': 8241600.0, 'change': -1.07, 'changePercent': -0.708, 'vwap': 151.53, 'label': 'February 27, 20', 'changeOverTime': -0.00708}\n{'date': '2020-02-28', 'open': 154.09, 'high': 156.72, 'low': 146.0, 'close': 149.24, 'adjClose': 149.24, 'volume': 11508700.0, 'unadjustedVolume': 11508700.0, 'change': -4.85, 'changePercent': -3.148, 'vwap': 150.65333, 'label': 'February 28, 20', 'changeOverTime': -0.03148}\n{'date': '2020-03-02', 'open': 151.34, 'high': 153.43, 'low': 148.37, 'close': 153.02, 'adjClose': 153.02, 'volume': 8026300.0, 'unadjustedVolume': 8026300.0, 'change': 1.68, 'changePercent': 1.11, 'vwap': 151.60667, 'label': 'March 02, 20', 'changeOverTime': 0.0111}\n{'date': '2020-03-03', 'open': 152.44, 'high': 154.0, 'low': 144.44, 'close': 145.24, 'adjClose': 145.24, 'volume': 8296500.0, 'unadjustedVolume': 8296500.0, 'change': -7.2, 'changePercent': -4.723, 'vwap': 147.89333, 'label': 'March 03, 20', 'changeOverTime': -0.04723}\n{'date': '2020-03-04', 'open': 147.02, 'high': 154.0, 'low': 145.99, 'close': 153.98, 'adjClose': 153.98, 'volume': 5773800.0, 'unadjustedVolume': 5773800.0, 'change': 6.96, 'changePercent': 4.734, 'vwap': 151.32333, 'label': 'March 04, 20', 'changeOverTime': 0.04734}\n{'date': '2020-03-05', 'open': 150.8, 'high': 154.35, 'low': 149.55, 'close': 151.41, 'adjClose': 151.41, 'volume': 5887000.0, 'unadjustedVolume': 5887000.0, 'change': 0.61, 'changePercent': 0.405, 'vwap': 151.77, 'label': 'March 05, 20', 'changeOverTime': 0.00405}\n{'date': '2020-03-06', 'open': 149.59, 'high': 154.74, 'low': 147.87, 'close': 153.65, 'adjClose': 153.65, 'volume': 7155100.0, 'unadjustedVolume': 7155100.0, 'change': 4.06, 'changePercent': 2.714, 'vwap': 152.08667, 'label': 'March 06, 20', 'changeOverTime': 0.02714}\n{'date': '2020-03-09', 'open': 146.59, 'high': 149.46, 'low': 143.55, 'close': 144.06, 'adjClose': 144.06, 'volume': 8194400.0, 'unadjustedVolume': 8194400.0, 'change': -2.53, 'changePercent': -1.726, 'vwap': 145.69, 'label': 'March 09, 20', 'changeOverTime': -0.01726}\n{'date': '2020-03-10', 'open': 149.02, 'high': 153.38, 'low': 144.88, 'close': 153.3, 'adjClose': 153.3, 'volume': 5651700.0, 'unadjustedVolume': 5651700.0, 'change': 4.28, 'changePercent': 2.872, 'vwap': 150.52, 'label': 'March 10, 20', 'changeOverTime': 0.02872}\n{'date': '2020-03-11', 'open': 149.73, 'high': 149.73, 'low': 146.47, 'close': 147.24, 'adjClose': 147.24, 'volume': 4748200.0, 'unadjustedVolume': 4748200.0, 'change': -2.49, 'changePercent': -1.663, 'vwap': 147.81333, 'label': 'March 11, 20', 'changeOverTime': -0.01663}\n{'date': '2020-03-12', 'open': 139.96, 'high': 141.71, 'low': 130.34, 'close': 133.58, 'adjClose': 133.58, 'volume': 8215800.0, 'unadjustedVolume': 8215800.0, 'change': -6.38, 'changePercent': -4.558, 'vwap': 135.21, 'label': 'March 12, 20', 'changeOverTime': -0.04558}\n{'date': '2020-03-13', 'open': 141.01, 'high': 141.69, 'low': 131.0, 'close': 141.68, 'adjClose': 141.68, 'volume': 6580300.0, 'unadjustedVolume': 6580300.0, 'change': 0.67, 'changePercent': 0.475, 'vwap': 138.12333, 'label': 'March 13, 20', 'changeOverTime': 0.00475}\n{'date': '2020-03-16', 'open': 129.86, 'high': 135.5, 'low': 128.01, 'close': 130.91, 'adjClose': 130.91, 'volume': 7440800.0, 'unadjustedVolume': 7440800.0, 'change': 1.05, 'changePercent': 0.809, 'vwap': 131.47333, 'label': 'March 16, 20', 'changeOverTime': 0.00809}\n{'date': '2020-03-17', 'open': 131.94, 'high': 136.77, 'low': 129.61, 'close': 134.44, 'adjClose': 134.44, 'volume': 6535400.0, 'unadjustedVolume': 6535400.0, 'change': 2.5, 'changePercent': 1.895, 'vwap': 133.60667, 'label': 'March 17, 20', 'changeOverTime': 0.01895}\n{'date': '2020-03-18', 'open': 128.46, 'high': 139.37, 'low': 128.39, 'close': 137.02, 'adjClose': 137.02, 'volume': 6860400.0, 'unadjustedVolume': 6860400.0, 'change': 8.56, 'changePercent': 6.664, 'vwap': 134.92667, 'label': 'March 18, 20', 'changeOverTime': 0.06664}\n{'date': '2020-03-19', 'open': 137.71, 'high': 140.18, 'low': 132.93, 'close': 137.51, 'adjClose': 137.51, 'volume': 6365700.0, 'unadjustedVolume': 6365700.0, 'change': -0.2, 'changePercent': -0.145, 'vwap': 136.87333, 'label': 'March 19, 20', 'changeOverTime': -0.00145}\n{'date': '2020-03-20', 'open': 138.07, 'high': 139.24, 'low': 122.71, 'close': 124.89, 'adjClose': 124.89, 'volume': 9589200.0, 'unadjustedVolume': 9589200.0, 'change': -13.18, 'changePercent': -9.546, 'vwap': 128.94667, 'label': 'March 20, 20', 'changeOverTime': -0.09546}\n{'date': '2020-03-23', 'open': 128.16, 'high': 128.4, 'low': 114.04, 'close': 117.87, 'adjClose': 117.87, 'volume': 7934300.0, 'unadjustedVolume': 7934300.0, 'change': -10.29, 'changePercent': -8.029, 'vwap': 120.10333, 'label': 'March 23, 20', 'changeOverTime': -0.08029}\n{'date': '2020-03-24', 'open': 122.29, 'high': 133.45, 'low': 121.0, 'close': 132.72, 'adjClose': 132.72, 'volume': 9311700.0, 'unadjustedVolume': 9311700.0, 'change': 10.43, 'changePercent': 8.529, 'vwap': 129.05667, 'label': 'March 24, 20', 'changeOverTime': 0.08529}\n{'date': '2020-03-25', 'open': 133.15, 'high': 134.69, 'low': 126.8, 'close': 131.54, 'adjClose': 131.54, 'volume': 7742500.0, 'unadjustedVolume': 7742500.0, 'change': -1.61, 'changePercent': -1.209, 'vwap': 131.01, 'label': 'March 25, 20', 'changeOverTime': -0.01209}\n{'date': '2020-03-26', 'open': 131.79, 'high': 136.38, 'low': 130.61, 'close': 136.18, 'adjClose': 136.18, 'volume': 6717000.0, 'unadjustedVolume': 6717000.0, 'change': 4.39, 'changePercent': 3.331, 'vwap': 134.39, 'label': 'March 26, 20', 'changeOverTime': 0.03331}\n{'date': '2020-03-27', 'open': 132.83, 'high': 137.07, 'low': 130.91, 'close': 133.24, 'adjClose': 133.24, 'volume': 4262300.0, 'unadjustedVolume': 4262300.0, 'change': 0.41, 'changePercent': 0.309, 'vwap': 133.74, 'label': 'March 27, 20', 'changeOverTime': 0.00309}\n{'date': '2020-03-30', 'open': 132.25, 'high': 138.01, 'low': 131.06, 'close': 137.74, 'adjClose': 137.74, 'volume': 3869500.0, 'unadjustedVolume': 3869500.0, 'change': 5.49, 'changePercent': 4.151, 'vwap': 135.60333, 'label': 'March 30, 20', 'changeOverTime': 0.04151}\n{'date': '2020-03-31', 'open': 135.69, 'high': 139.44, 'low': 135.68, 'close': 136.51, 'adjClose': 136.51, 'volume': 3613700.0, 'unadjustedVolume': 3613700.0, 'change': 0.82, 'changePercent': 0.604, 'vwap': 137.21, 'label': 'March 31, 20', 'changeOverTime': 0.00604}\n{'date': '2020-04-01', 'open': 132.0, 'high': 135.84, 'low': 131.01, 'close': 133.14, 'adjClose': 133.14, 'volume': 3777600.0, 'unadjustedVolume': 3777600.0, 'change': 1.14, 'changePercent': 0.864, 'vwap': 133.33, 'label': 'April 01, 20', 'changeOverTime': 0.00864}\n{'date': '2020-04-02', 'open': 132.36, 'high': 138.21, 'low': 132.1, 'close': 137.91, 'adjClose': 137.91, 'volume': 3990300.0, 'unadjustedVolume': 3990300.0, 'change': 5.55, 'changePercent': 4.193, 'vwap': 136.07333, 'label': 'April 02, 20', 'changeOverTime': 0.04193}\n{'date': '2020-04-03', 'open': 136.01, 'high': 137.44, 'low': 132.9, 'close': 133.79, 'adjClose': 133.79, 'volume': 3588300.0, 'unadjustedVolume': 3588300.0, 'change': -2.22, 'changePercent': -1.632, 'vwap': 134.71, 'label': 'April 03, 20', 'changeOverTime': -0.01632}\n{'date': '2020-04-06', 'open': 137.86, 'high': 141.25, 'low': 136.9, 'close': 140.7, 'adjClose': 140.7, 'volume': 5639700.0, 'unadjustedVolume': 5639700.0, 'change': 2.84, 'changePercent': 2.06, 'vwap': 139.61667, 'label': 'April 06, 20', 'changeOverTime': 0.0206}\n{'date': '2020-04-07', 'open': 147.5, 'high': 150.64, 'low': 144.4, 'close': 144.6, 'adjClose': 144.6, 'volume': 5496300.0, 'unadjustedVolume': 5496300.0, 'change': -2.9, 'changePercent': -1.966, 'vwap': 146.54667, 'label': 'April 07, 20', 'changeOverTime': -0.01966}\n{'date': '2020-04-08', 'open': 145.73, 'high': 149.72, 'low': 143.91, 'close': 148.99, 'adjClose': 148.99, 'volume': 3071100.0, 'unadjustedVolume': 3071100.0, 'change': 3.26, 'changePercent': 2.237, 'vwap': 147.54, 'label': 'April 08, 20', 'changeOverTime': 0.02237}\n{'date': '2020-04-09', 'open': 148.46, 'high': 149.73, 'low': 146.54, 'close': 147.78, 'adjClose': 147.78, 'volume': 4784200.0, 'unadjustedVolume': 4784200.0, 'change': -0.68, 'changePercent': -0.458, 'vwap': 148.01667, 'label': 'April 09, 20', 'changeOverTime': -0.00458}\n{'date': '2020-04-13', 'open': 147.5, 'high': 148.58, 'low': 145.3, 'close': 146.4, 'adjClose': 146.4, 'volume': 2642300.0, 'unadjustedVolume': 2642300.0, 'change': -1.1, 'changePercent': -0.746, 'vwap': 146.76, 'label': 'April 13, 20', 'changeOverTime': -0.00746}\n{'date': '2020-04-14', 'open': 149.62, 'high': 150.98, 'low': 148.05, 'close': 150.14, 'adjClose': 150.14, 'volume': 3318400.0, 'unadjustedVolume': 3318400.0, 'change': 0.52, 'changePercent': 0.348, 'vwap': 149.72333, 'label': 'April 14, 20', 'changeOverTime': 0.00348}\n{'date': '2020-04-15', 'open': 148.19, 'high': 148.55, 'low': 144.9, 'close': 145.16, 'adjClose': 145.16, 'volume': 3043900.0, 'unadjustedVolume': 3043900.0, 'change': -3.03, 'changePercent': -2.045, 'vwap': 146.20333, 'label': 'April 15, 20', 'changeOverTime': -0.02045}\n{'date': '2020-04-16', 'open': 145.27, 'high': 146.45, 'low': 143.23, 'close': 144.9, 'adjClose': 144.9, 'volume': 4170400.0, 'unadjustedVolume': 4170400.0, 'change': -0.37, 'changePercent': -0.255, 'vwap': 144.86, 'label': 'April 16, 20', 'changeOverTime': -0.00255}\n{'date': '2020-04-17', 'open': 147.44, 'high': 148.5, 'low': 144.8, 'close': 146.46, 'adjClose': 146.46, 'volume': 5393100.0, 'unadjustedVolume': 5393100.0, 'change': -0.98, 'changePercent': -0.665, 'vwap': 146.58667, 'label': 'April 17, 20', 'changeOverTime': -0.00665}\n{'date': '2020-04-20', 'open': 144.75, 'high': 147.02, 'low': 143.65, 'close': 143.67, 'adjClose': 143.67, 'volume': 2893000.0, 'unadjustedVolume': 2893000.0, 'change': -1.08, 'changePercent': -0.746, 'vwap': 144.78, 'label': 'April 20, 20', 'changeOverTime': -0.00746}\n{'date': '2020-04-21', 'open': 142.25, 'high': 142.77, 'low': 140.5, 'close': 141.63, 'adjClose': 141.63, 'volume': 2331100.0, 'unadjustedVolume': 2331100.0, 'change': -0.62, 'changePercent': -0.436, 'vwap': 141.63333, 'label': 'April 21, 20', 'changeOverTime': -0.00436}\n{'date': '2020-04-22', 'open': 143.36, 'high': 144.48, 'low': 141.71, 'close': 143.61, 'adjClose': 143.61, 'volume': 2750400.0, 'unadjustedVolume': 2750400.0, 'change': 0.25, 'changePercent': 0.174, 'vwap': 143.26667, 'label': 'April 22, 20', 'changeOverTime': 0.00174}\n{'date': '2020-04-23', 'open': 144.58, 'high': 147.58, 'low': 143.88, 'close': 144.33, 'adjClose': 144.33, 'volume': 2585300.0, 'unadjustedVolume': 2585300.0, 'change': -0.25, 'changePercent': -0.173, 'vwap': 145.26333, 'label': 'April 23, 20', 'changeOverTime': -0.00173}\n{'date': '2020-04-24', 'open': 145.17, 'high': 147.34, 'low': 144.31, 'close': 147.0, 'adjClose': 147.0, 'volume': 2247100.0, 'unadjustedVolume': 2247100.0, 'change': 1.83, 'changePercent': 1.261, 'vwap': 146.21667, 'label': 'April 24, 20', 'changeOverTime': 0.01261}\n{'date': '2020-04-27', 'open': 148.0, 'high': 154.49, 'low': 147.89, 'close': 153.65, 'adjClose': 153.65, 'volume': 4644900.0, 'unadjustedVolume': 4644900.0, 'change': 5.65, 'changePercent': 3.818, 'vwap': 152.01, 'label': 'April 27, 20', 'changeOverTime': 0.03818}\n{'date': '2020-04-28', 'open': 160.03, 'high': 163.08, 'low': 155.2, 'close': 157.61, 'adjClose': 157.61, 'volume': 8294100.0, 'unadjustedVolume': 8294100.0, 'change': -2.42, 'changePercent': -1.512, 'vwap': 158.63, 'label': 'April 28, 20', 'changeOverTime': -0.01512}\n{'date': '2020-04-29', 'open': 158.54, 'high': 160.22, 'low': 155.17, 'close': 156.26, 'adjClose': 156.26, 'volume': 3987100.0, 'unadjustedVolume': 3987100.0, 'change': -2.28, 'changePercent': -1.438, 'vwap': 157.21667, 'label': 'April 29, 20', 'changeOverTime': -0.01438}\n{'date': '2020-04-30', 'open': 154.31, 'high': 154.94, 'low': 151.75, 'close': 151.92, 'adjClose': 151.92, 'volume': 3667800.0, 'unadjustedVolume': 3667800.0, 'change': -2.39, 'changePercent': -1.549, 'vwap': 152.87, 'label': 'April 30, 20', 'changeOverTime': -0.01549}\n{'date': '2020-05-01', 'open': 149.3, 'high': 150.04, 'low': 147.73, 'close': 148.6, 'adjClose': 148.6, 'volume': 2926400.0, 'unadjustedVolume': 2926400.0, 'change': -0.7, 'changePercent': -0.469, 'vwap': 148.79, 'label': 'May 01, 20', 'changeOverTime': -0.00469}\n{'date': '2020-05-04', 'open': 148.54, 'high': 148.56, 'low': 146.06, 'close': 148.4, 'adjClose': 148.4, 'volume': 2229100.0, 'unadjustedVolume': 2229100.0, 'change': -0.14, 'changePercent': -0.094, 'vwap': 147.67333, 'label': 'May 04, 20', 'changeOverTime': -0.00094}\n{'date': '2020-05-05', 'open': 149.89, 'high': 150.0, 'low': 147.11, 'close': 147.39, 'adjClose': 147.39, 'volume': 2026139.0, 'unadjustedVolume': 2026139.0, 'change': -2.5, 'changePercent': -1.668, 'vwap': 148.16667, 'label': 'May 05, 20', 'changeOverTime': -0.01668}\n"
    }
   ],
   "source": [
    "def getCompanyHourlyPrice(dataframe, company):\n",
    "    resp = requests.request('GET', financial_url + 'historical-price-full/{}'.format(company))\n",
    "    if (resp.text != None):\n",
    "        jsonResp = json.loads(resp.text)\n",
    "        for date in jsonResp['historical']:\n",
    "            print (date)\n",
    "            dataframe.loc[pd.Timestamp(date['date']), 'close'] = date['close']\n",
    "            dataframe.loc[pd.Timestamp(date['date']), 'volume'] = date['volume']\n",
    "            dataframe.loc[pd.Timestamp(date['date']), 'vwap'] = date['vwap']\n",
    "            dataframe.loc[pd.Timestamp(date['date']), 'changeOverTime'] = date['changeOverTime']\n",
    "    return dataframe\n",
    "\n",
    "stock = sp.index[:1][0]\n",
    "\n",
    "stock_history = getCompanyHourlyPrice(stock_history, stock)\n",
    ""
   ]
  },
  {
   "cell_type": "code",
   "execution_count": 56,
   "metadata": {},
   "outputs": [],
   "source": [
    "len(stock_history)\n",
    "stock_history = stock_history.sort_index(axis=0, ascending=False)"
   ]
  },
  {
   "cell_type": "code",
   "execution_count": 57,
   "metadata": {},
   "outputs": [
    {
     "output_type": "execute_result",
     "data": {
      "text/plain": "             close     volume       vwap  changeOverTime\n2020-05-05  147.39  2026139.0  148.16667        -0.01668\n2020-05-04  148.40  2229100.0  147.67333        -0.00094\n2020-05-01  148.60  2926400.0  148.79000        -0.00469\n2020-04-30  151.92  3667800.0  152.87000        -0.01549\n2020-04-29  156.26  3987100.0  157.21667        -0.01438",
      "text/html": "<div>\n<style scoped>\n    .dataframe tbody tr th:only-of-type {\n        vertical-align: middle;\n    }\n\n    .dataframe tbody tr th {\n        vertical-align: top;\n    }\n\n    .dataframe thead th {\n        text-align: right;\n    }\n</style>\n<table border=\"1\" class=\"dataframe\">\n  <thead>\n    <tr style=\"text-align: right;\">\n      <th></th>\n      <th>close</th>\n      <th>volume</th>\n      <th>vwap</th>\n      <th>changeOverTime</th>\n    </tr>\n  </thead>\n  <tbody>\n    <tr>\n      <td>2020-05-05</td>\n      <td>147.39</td>\n      <td>2026139.0</td>\n      <td>148.16667</td>\n      <td>-0.01668</td>\n    </tr>\n    <tr>\n      <td>2020-05-04</td>\n      <td>148.40</td>\n      <td>2229100.0</td>\n      <td>147.67333</td>\n      <td>-0.00094</td>\n    </tr>\n    <tr>\n      <td>2020-05-01</td>\n      <td>148.60</td>\n      <td>2926400.0</td>\n      <td>148.79000</td>\n      <td>-0.00469</td>\n    </tr>\n    <tr>\n      <td>2020-04-30</td>\n      <td>151.92</td>\n      <td>3667800.0</td>\n      <td>152.87000</td>\n      <td>-0.01549</td>\n    </tr>\n    <tr>\n      <td>2020-04-29</td>\n      <td>156.26</td>\n      <td>3987100.0</td>\n      <td>157.21667</td>\n      <td>-0.01438</td>\n    </tr>\n  </tbody>\n</table>\n</div>"
     },
     "metadata": {},
     "execution_count": 57
    }
   ],
   "source": [
    "stock_history.head()"
   ]
  },
  {
   "cell_type": "code",
   "execution_count": 58,
   "metadata": {},
   "outputs": [],
   "source": [
    "stock_history.to_csv('{}_history.csv'.format(stock))"
   ]
  }
 ]
}