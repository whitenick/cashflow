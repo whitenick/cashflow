{
 "nbformat": 4,
 "nbformat_minor": 2,
 "metadata": {
  "language_info": {
   "name": "python",
   "codemirror_mode": {
    "name": "ipython",
    "version": 3
   },
   "version": "3.7.4-final"
  },
  "orig_nbformat": 2,
  "file_extension": ".py",
  "mimetype": "text/x-python",
  "name": "python",
  "npconvert_exporter": "python",
  "pygments_lexer": "ipython3",
  "version": 3,
  "kernelspec": {
   "name": "python3",
   "display_name": "Python 3"
  }
 },
 "cells": [
  {
   "cell_type": "code",
   "execution_count": 21,
   "metadata": {},
   "outputs": [
    {
     "output_type": "execute_result",
     "data": {
      "text/plain": "                       Name                  Sector\nSymbol                                             \nMMM              3M Company             Industrials\nAOS         A.O. Smith Corp             Industrials\nABT     Abbott Laboratories             Health Care\nABBV            AbbVie Inc.             Health Care\nACN           Accenture plc  Information Technology",
      "text/html": "<div>\n<style scoped>\n    .dataframe tbody tr th:only-of-type {\n        vertical-align: middle;\n    }\n\n    .dataframe tbody tr th {\n        vertical-align: top;\n    }\n\n    .dataframe thead th {\n        text-align: right;\n    }\n</style>\n<table border=\"1\" class=\"dataframe\">\n  <thead>\n    <tr style=\"text-align: right;\">\n      <th></th>\n      <th>Name</th>\n      <th>Sector</th>\n    </tr>\n    <tr>\n      <th>Symbol</th>\n      <th></th>\n      <th></th>\n    </tr>\n  </thead>\n  <tbody>\n    <tr>\n      <td>MMM</td>\n      <td>3M Company</td>\n      <td>Industrials</td>\n    </tr>\n    <tr>\n      <td>AOS</td>\n      <td>A.O. Smith Corp</td>\n      <td>Industrials</td>\n    </tr>\n    <tr>\n      <td>ABT</td>\n      <td>Abbott Laboratories</td>\n      <td>Health Care</td>\n    </tr>\n    <tr>\n      <td>ABBV</td>\n      <td>AbbVie Inc.</td>\n      <td>Health Care</td>\n    </tr>\n    <tr>\n      <td>ACN</td>\n      <td>Accenture plc</td>\n      <td>Information Technology</td>\n    </tr>\n  </tbody>\n</table>\n</div>"
     },
     "metadata": {},
     "execution_count": 21
    }
   ],
   "source": [
    "import pandas as pd \n",
    "import requests\n",
    "import json\n",
    "\n",
    "financial_url = 'https://financialmodelingprep.com/api/v3/'\n",
    "\n",
    "sp = pd.read_csv('../data/constituents.csv', index_col='Symbol')\n",
    "\n",
    "sp.head()"
   ]
  },
  {
   "cell_type": "code",
   "execution_count": 32,
   "metadata": {},
   "outputs": [
    {
     "output_type": "error",
     "ename": "TypeError",
     "evalue": "string indices must be integers",
     "traceback": [
      "\u001b[0;31m---------------------------------------------------------------------------\u001b[0m",
      "\u001b[0;31mTypeError\u001b[0m                                 Traceback (most recent call last)",
      "\u001b[0;32m<ipython-input-32-a23fed072242>\u001b[0m in \u001b[0;36m<module>\u001b[0;34m\u001b[0m\n\u001b[1;32m     14\u001b[0m         \u001b[0;32mfor\u001b[0m \u001b[0mresp\u001b[0m \u001b[0;32min\u001b[0m \u001b[0mjsonResp\u001b[0m\u001b[0;34m:\u001b[0m\u001b[0;34m\u001b[0m\u001b[0;34m\u001b[0m\u001b[0m\n\u001b[1;32m     15\u001b[0m             \u001b[0mcompanyProfile\u001b[0m \u001b[0;34m=\u001b[0m \u001b[0mresp\u001b[0m\u001b[0;34m\u001b[0m\u001b[0;34m\u001b[0m\u001b[0m\n\u001b[0;32m---> 16\u001b[0;31m             \u001b[0mresultFrame\u001b[0m \u001b[0;34m=\u001b[0m \u001b[0msetCompanyProfile\u001b[0m\u001b[0;34m(\u001b[0m\u001b[0msp\u001b[0m\u001b[0;34m.\u001b[0m\u001b[0mloc\u001b[0m\u001b[0;34m[\u001b[0m\u001b[0msp\u001b[0m\u001b[0;34m.\u001b[0m\u001b[0mindex\u001b[0m \u001b[0;34m==\u001b[0m \u001b[0mindex\u001b[0m\u001b[0;34m]\u001b[0m\u001b[0;34m,\u001b[0m \u001b[0mcompanyProfile\u001b[0m\u001b[0;34m)\u001b[0m\u001b[0;34m\u001b[0m\u001b[0;34m\u001b[0m\u001b[0m\n\u001b[0m\u001b[1;32m     17\u001b[0m             \u001b[0;32mfor\u001b[0m \u001b[0mi\u001b[0m\u001b[0;34m,\u001b[0m \u001b[0mv\u001b[0m \u001b[0;32min\u001b[0m \u001b[0mresultFrame\u001b[0m\u001b[0;34m.\u001b[0m\u001b[0miteritems\u001b[0m\u001b[0;34m(\u001b[0m\u001b[0;34m)\u001b[0m\u001b[0;34m:\u001b[0m\u001b[0;34m\u001b[0m\u001b[0;34m\u001b[0m\u001b[0m\n\u001b[1;32m     18\u001b[0m                 \u001b[0msp\u001b[0m\u001b[0;34m.\u001b[0m\u001b[0mloc\u001b[0m\u001b[0;34m[\u001b[0m\u001b[0mindex\u001b[0m\u001b[0;34m,\u001b[0m \u001b[0mv\u001b[0m\u001b[0;34m.\u001b[0m\u001b[0mname\u001b[0m\u001b[0;34m]\u001b[0m \u001b[0;34m=\u001b[0m \u001b[0mv\u001b[0m\u001b[0;34m[\u001b[0m\u001b[0mindex\u001b[0m\u001b[0;34m]\u001b[0m\u001b[0;34m\u001b[0m\u001b[0;34m\u001b[0m\u001b[0m\n",
      "\u001b[0;32m<ipython-input-32-a23fed072242>\u001b[0m in \u001b[0;36msetCompanyProfile\u001b[0;34m(series, companyProfile)\u001b[0m\n\u001b[1;32m      2\u001b[0m \u001b[0;34m\u001b[0m\u001b[0m\n\u001b[1;32m      3\u001b[0m \u001b[0;32mdef\u001b[0m \u001b[0msetCompanyProfile\u001b[0m\u001b[0;34m(\u001b[0m\u001b[0mseries\u001b[0m\u001b[0;34m,\u001b[0m \u001b[0mcompanyProfile\u001b[0m\u001b[0;34m)\u001b[0m\u001b[0;34m:\u001b[0m\u001b[0;34m\u001b[0m\u001b[0;34m\u001b[0m\u001b[0m\n\u001b[0;32m----> 4\u001b[0;31m     \u001b[0mseries\u001b[0m\u001b[0;34m[\u001b[0m\u001b[0;34m'price'\u001b[0m\u001b[0;34m]\u001b[0m \u001b[0;34m=\u001b[0m \u001b[0mcompanyProfile\u001b[0m\u001b[0;34m[\u001b[0m\u001b[0;34m'price'\u001b[0m\u001b[0;34m]\u001b[0m\u001b[0;34m\u001b[0m\u001b[0;34m\u001b[0m\u001b[0m\n\u001b[0m\u001b[1;32m      5\u001b[0m     \u001b[0mseries\u001b[0m\u001b[0;34m[\u001b[0m\u001b[0;34m'beta'\u001b[0m\u001b[0;34m]\u001b[0m \u001b[0;34m=\u001b[0m \u001b[0mcompanyProfile\u001b[0m\u001b[0;34m[\u001b[0m\u001b[0;34m'beta'\u001b[0m\u001b[0;34m]\u001b[0m\u001b[0;34m\u001b[0m\u001b[0;34m\u001b[0m\u001b[0m\n\u001b[1;32m      6\u001b[0m     \u001b[0mseries\u001b[0m\u001b[0;34m[\u001b[0m\u001b[0;34m'mktCap'\u001b[0m\u001b[0;34m]\u001b[0m \u001b[0;34m=\u001b[0m \u001b[0mcompanyProfile\u001b[0m\u001b[0;34m[\u001b[0m\u001b[0;34m'mktCap'\u001b[0m\u001b[0;34m]\u001b[0m\u001b[0;34m\u001b[0m\u001b[0;34m\u001b[0m\u001b[0m\n",
      "\u001b[0;31mTypeError\u001b[0m: string indices must be integers"
     ]
    }
   ],
   "source": [
    "resp = requests.request('GET', financial_url + 'company/profile/{}'.format(sp.iloc[0].name))\n",
    "\n",
    "def setCompanyProfile(series, companyProfile):\n",
    "    series['price'] = companyProfile['price']\n",
    "    series['beta'] = companyProfile['beta']\n",
    "    series['mktCap'] = companyProfile['mktCap']\n",
    "    series['lastDiv'] = companyProfile['lastDiv']\n",
    "    return series\n",
    "\n",
    "for index in sp.index[:10]:\n",
    "    resp = requests.request('GET', financial_url + 'company/quote/{}'.format(index))\n",
    "    if (resp.text != None):\n",
    "        jsonResp = json.loads(resp.text)\n",
    "        for resp in jsonResp:\n",
    "            companyProfile = resp\n",
    "            for i, v in companyProfile.iteritems():\n",
    "                sp.loc[index, v.name] = v[index]\n",
    "\n"
   ]
  },
  {
   "cell_type": "code",
   "execution_count": 29,
   "metadata": {},
   "outputs": [
    {
     "output_type": "execute_result",
     "data": {
      "text/plain": "                              Name                  Sector    price      beta  \\\nSymbol                                                                          \nMMM                     3M Company             Industrials  150.140  1.096121   \nAOS                A.O. Smith Corp             Industrials   40.670  1.476391   \nABT            Abbott Laboratories             Health Care   89.140  1.112141   \nABBV                   AbbVie Inc.             Health Care   82.130  0.952782   \nACN                  Accenture plc  Information Technology  178.100  1.036256   \nATVI           Activision Blizzard  Information Technology   63.280  0.822934   \nAYI              Acuity Brands Inc             Industrials   89.160  1.528667   \nADBE             Adobe Systems Inc  Information Technology  340.765   1.10118   \nAAP             Advance Auto Parts  Consumer Discretionary  115.390  0.832209   \nAMD     Advanced Micro Devices Inc  Information Technology   54.930  3.079258   \n\n               mktCap lastDiv  \nSymbol                         \nMMM      8.6369681E10    5.76  \nAOS       6.5887427E9    0.88  \nABT     1.57192143E11    1.28  \nABBV    1.21278898E11    4.28  \nACN     1.13614799E11    2.92  \nATVI     4.8676368E10    0.37  \nAYI      3.53443635E9    0.52  \nADBE    1.64680827E11       0  \nAAP       7.9722378E9    0.24  \nAMD      6.4314794E10       0  ",
      "text/html": "<div>\n<style scoped>\n    .dataframe tbody tr th:only-of-type {\n        vertical-align: middle;\n    }\n\n    .dataframe tbody tr th {\n        vertical-align: top;\n    }\n\n    .dataframe thead th {\n        text-align: right;\n    }\n</style>\n<table border=\"1\" class=\"dataframe\">\n  <thead>\n    <tr style=\"text-align: right;\">\n      <th></th>\n      <th>Name</th>\n      <th>Sector</th>\n      <th>price</th>\n      <th>beta</th>\n      <th>mktCap</th>\n      <th>lastDiv</th>\n    </tr>\n    <tr>\n      <th>Symbol</th>\n      <th></th>\n      <th></th>\n      <th></th>\n      <th></th>\n      <th></th>\n      <th></th>\n    </tr>\n  </thead>\n  <tbody>\n    <tr>\n      <td>MMM</td>\n      <td>3M Company</td>\n      <td>Industrials</td>\n      <td>150.140</td>\n      <td>1.096121</td>\n      <td>8.6369681E10</td>\n      <td>5.76</td>\n    </tr>\n    <tr>\n      <td>AOS</td>\n      <td>A.O. Smith Corp</td>\n      <td>Industrials</td>\n      <td>40.670</td>\n      <td>1.476391</td>\n      <td>6.5887427E9</td>\n      <td>0.88</td>\n    </tr>\n    <tr>\n      <td>ABT</td>\n      <td>Abbott Laboratories</td>\n      <td>Health Care</td>\n      <td>89.140</td>\n      <td>1.112141</td>\n      <td>1.57192143E11</td>\n      <td>1.28</td>\n    </tr>\n    <tr>\n      <td>ABBV</td>\n      <td>AbbVie Inc.</td>\n      <td>Health Care</td>\n      <td>82.130</td>\n      <td>0.952782</td>\n      <td>1.21278898E11</td>\n      <td>4.28</td>\n    </tr>\n    <tr>\n      <td>ACN</td>\n      <td>Accenture plc</td>\n      <td>Information Technology</td>\n      <td>178.100</td>\n      <td>1.036256</td>\n      <td>1.13614799E11</td>\n      <td>2.92</td>\n    </tr>\n    <tr>\n      <td>ATVI</td>\n      <td>Activision Blizzard</td>\n      <td>Information Technology</td>\n      <td>63.280</td>\n      <td>0.822934</td>\n      <td>4.8676368E10</td>\n      <td>0.37</td>\n    </tr>\n    <tr>\n      <td>AYI</td>\n      <td>Acuity Brands Inc</td>\n      <td>Industrials</td>\n      <td>89.160</td>\n      <td>1.528667</td>\n      <td>3.53443635E9</td>\n      <td>0.52</td>\n    </tr>\n    <tr>\n      <td>ADBE</td>\n      <td>Adobe Systems Inc</td>\n      <td>Information Technology</td>\n      <td>340.765</td>\n      <td>1.10118</td>\n      <td>1.64680827E11</td>\n      <td>0</td>\n    </tr>\n    <tr>\n      <td>AAP</td>\n      <td>Advance Auto Parts</td>\n      <td>Consumer Discretionary</td>\n      <td>115.390</td>\n      <td>0.832209</td>\n      <td>7.9722378E9</td>\n      <td>0.24</td>\n    </tr>\n    <tr>\n      <td>AMD</td>\n      <td>Advanced Micro Devices Inc</td>\n      <td>Information Technology</td>\n      <td>54.930</td>\n      <td>3.079258</td>\n      <td>6.4314794E10</td>\n      <td>0</td>\n    </tr>\n  </tbody>\n</table>\n</div>"
     },
     "metadata": {},
     "execution_count": 29
    }
   ],
   "source": [
    "sp.head(10)"
   ]
  },
  {
   "cell_type": "code",
   "execution_count": null,
   "metadata": {},
   "outputs": [],
   "source": []
  }
 ]
}