{
 "cells": [
  {
   "cell_type": "code",
   "execution_count": 2,
   "metadata": {},
   "outputs": [
    {
     "output_type": "execute_result",
     "data": {
      "text/plain": "                       Name                  Sector\nSymbol                                             \nMMM              3M Company             Industrials\nAOS         A.O. Smith Corp             Industrials\nABT     Abbott Laboratories             Health Care\nABBV            AbbVie Inc.             Health Care\nACN           Accenture plc  Information Technology",
      "text/html": "<div>\n<style scoped>\n    .dataframe tbody tr th:only-of-type {\n        vertical-align: middle;\n    }\n\n    .dataframe tbody tr th {\n        vertical-align: top;\n    }\n\n    .dataframe thead th {\n        text-align: right;\n    }\n</style>\n<table border=\"1\" class=\"dataframe\">\n  <thead>\n    <tr style=\"text-align: right;\">\n      <th></th>\n      <th>Name</th>\n      <th>Sector</th>\n    </tr>\n    <tr>\n      <th>Symbol</th>\n      <th></th>\n      <th></th>\n    </tr>\n  </thead>\n  <tbody>\n    <tr>\n      <td>MMM</td>\n      <td>3M Company</td>\n      <td>Industrials</td>\n    </tr>\n    <tr>\n      <td>AOS</td>\n      <td>A.O. Smith Corp</td>\n      <td>Industrials</td>\n    </tr>\n    <tr>\n      <td>ABT</td>\n      <td>Abbott Laboratories</td>\n      <td>Health Care</td>\n    </tr>\n    <tr>\n      <td>ABBV</td>\n      <td>AbbVie Inc.</td>\n      <td>Health Care</td>\n    </tr>\n    <tr>\n      <td>ACN</td>\n      <td>Accenture plc</td>\n      <td>Information Technology</td>\n    </tr>\n  </tbody>\n</table>\n</div>"
     },
     "metadata": {},
     "execution_count": 2
    }
   ],
   "source": [
    "import pandas as pd \n",
    "import requests\n",
    "import json\n",
    "\n",
    "financial_url = 'https://financialmodelingprep.com/api/v3/'\n",
    "\n",
    "sp = pd.read_csv('../data/constituents.csv', index_col='Symbol')\n",
    "\n",
    "sp.head()"
   ]
  },
  {
   "cell_type": "code",
   "execution_count": 3,
   "metadata": {},
   "outputs": [],
   "source": [
    "resp = requests.request('GET', financial_url + 'company/profile/{}'.format(sp.iloc[0].name))\n",
    "\n",
    "def setCompanyProfile(series, companyProfile):\n",
    "    series['price'] = companyProfile['price']\n",
    "    series['beta'] = companyProfile['beta']\n",
    "    series['mktCap'] = companyProfile['mktCap']\n",
    "    series['lastDiv'] = companyProfile['lastDiv']\n",
    "    return series"
   ]
  },
  {
   "cell_type": "code",
   "execution_count": 4,
   "metadata": {},
   "outputs": [],
   "source": [
    "stock_history = pd.DataFrame()"
   ]
  },
  {
   "cell_type": "code",
   "execution_count": 11,
   "metadata": {
    "tags": [
     "outputPrepend",
     "outputPrepend",
     "outputPrepend",
     "outputPrepend",
     "outputPrepend",
     "outputPrepend",
     "outputPrepend",
     "outputPrepend",
     "outputPrepend",
     "outputPrepend",
     "outputPrepend",
     "outputPrepend",
     "outputPrepend"
    ]
   },
   "outputs": [],
   "source": [
    "def getCompanyHourlyPrice(dataframe, company):\n",
    "    resp = requests.request('GET', financial_url + 'historical-price-full/{}?apikey=ea27179204941d38745ffb9139d47388'.format(company))\n",
    "    if (resp.text != None):\n",
    "        jsonResp = json.loads(resp.text)\n",
    "        print(jsonResp)\n",
    "        for date in jsonResp['historical']:\n",
    "            print (date)\n",
    "            dataframe.loc[pd.Timestamp(date['date']), 'close'] = date['close']\n",
    "            dataframe.loc[pd.Timestamp(date['date']), 'high'] = date['high']\n",
    "            dataframe.loc[pd.Timestamp(date['date']), 'low'] = date['low']\n",
    "            dataframe.loc[pd.Timestamp(date['date']), 'open'] = date['open']\n",
    "            dataframe.loc[pd.Timestamp(date['date']), 'volume'] = date['volume']\n",
    "            dataframe.loc[pd.Timestamp(date['date']), 'vwap'] = date['vwap']\n",
    "            dataframe.loc[pd.Timestamp(date['date']), 'changeOverTime'] = date['changeOverTime']\n",
    "    return dataframe"
   ]
  },
  {
   "cell_type": "code",
   "execution_count": 12,
   "metadata": {
    "tags": [
     "outputPrepend",
     "outputPrepend",
     "outputPrepend",
     "outputPrepend",
     "outputPrepend",
     "outputPrepend",
     "outputPrepend",
     "outputPrepend",
     "outputPrepend",
     "outputPrepend",
     "outputPrepend",
     "outputPrepend",
     "outputPrepend",
     "outputPrepend",
     "outputPrepend",
     "outputPrepend",
     "outputPrepend",
     "outputPrepend",
     "outputPrepend",
     "outputPrepend",
     "outputPrepend",
     "outputPrepend",
     "outputPrepend",
     "outputPrepend",
     "outputPrepend",
     "outputPrepend",
     "outputPrepend",
     "outputPrepend",
     "outputPrepend",
     "outputPrepend",
     "outputPrepend",
     "outputPrepend",
     "outputPrepend",
     "outputPrepend",
     "outputPrepend",
     "outputPrepend",
     "outputPrepend",
     "outputPrepend",
     "outputPrepend",
     "outputPrepend",
     "outputPrepend",
     "outputPrepend",
     "outputPrepend",
     "outputPrepend",
     "outputPrepend",
     "outputPrepend",
     "outputPrepend",
     "outputPrepend",
     "outputPrepend",
     "outputPrepend",
     "outputPrepend",
     "outputPrepend",
     "outputPrepend",
     "outputPrepend",
     "outputPrepend",
     "outputPrepend",
     "outputPrepend",
     "outputPrepend",
     "outputPrepend",
     "outputPrepend",
     "outputPrepend",
     "outputPrepend",
     "outputPrepend",
     "outputPrepend",
     "outputPrepend",
     "outputPrepend",
     "outputPrepend",
     "outputPrepend"
    ]
   },
   "outputs": [
    {
     "output_type": "stream",
     "name": "stdout",
     "text": "ow': 21.07, 'close': 21.12, 'adjClose': 19.97, 'volume': 7427100.0, 'unadjustedVolume': 7427100.0, 'change': -0.68, 'changePercent': -3.119, 'vwap': 21.41333, 'label': 'September 09, 15', 'changeOverTime': -0.03119}\n{'date': '2015-09-08', 'open': 21.08, 'high': 21.58, 'low': 21.04, 'close': 21.47, 'adjClose': 20.3, 'volume': 8422900.0, 'unadjustedVolume': 8422900.0, 'change': 0.39, 'changePercent': 1.85, 'vwap': 21.36333, 'label': 'September 08, 15', 'changeOverTime': 0.0185}\n{'date': '2015-09-04', 'open': 20.15, 'high': 20.66, 'low': 20.05, 'close': 20.48, 'adjClose': 19.36, 'volume': 4596100.0, 'unadjustedVolume': 4596100.0, 'change': 0.33, 'changePercent': 1.638, 'vwap': 20.39667, 'label': 'September 04, 15', 'changeOverTime': 0.01638}\n{'date': '2015-09-03', 'open': 20.35, 'high': 20.91, 'low': 20.35, 'close': 20.49, 'adjClose': 19.37, 'volume': 4474400.0, 'unadjustedVolume': 4474400.0, 'change': 0.14, 'changePercent': 0.688, 'vwap': 20.58333, 'label': 'September 03, 15', 'changeOverTime': 0.00688}\n{'date': '2015-09-02', 'open': 20.1, 'high': 20.27, 'low': 19.79, 'close': 20.26, 'adjClose': 19.15, 'volume': 4864100.0, 'unadjustedVolume': 4864100.0, 'change': 0.16, 'changePercent': 0.796, 'vwap': 20.10667, 'label': 'September 02, 15', 'changeOverTime': 0.00796}\n{'date': '2015-09-01', 'open': 19.91, 'high': 20.34, 'low': 19.71, 'close': 19.87, 'adjClose': 18.79, 'volume': 7213800.0, 'unadjustedVolume': 7213800.0, 'change': -0.04, 'changePercent': -0.201, 'vwap': 19.97333, 'label': 'September 01, 15', 'changeOverTime': -0.00201}\n{'date': '2015-08-31', 'open': 20.57, 'high': 20.99, 'low': 20.21, 'close': 20.43, 'adjClose': 19.32, 'volume': 7085000.0, 'unadjustedVolume': 7085000.0, 'change': -0.14, 'changePercent': -0.681, 'vwap': 20.54333, 'label': 'August 31, 15', 'changeOverTime': -0.00681}\n{'date': '2015-08-28', 'open': 20.45, 'high': 20.84, 'low': 20.39, 'close': 20.84, 'adjClose': 19.7, 'volume': 5266100.0, 'unadjustedVolume': 5266100.0, 'change': 0.39, 'changePercent': 1.907, 'vwap': 20.69, 'label': 'August 28, 15', 'changeOverTime': 0.01907}\n{'date': '2015-08-27', 'open': 20.0, 'high': 20.64, 'low': 19.92, 'close': 20.54, 'adjClose': 19.42, 'volume': 7687000.0, 'unadjustedVolume': 7687000.0, 'change': 0.54, 'changePercent': 2.7, 'vwap': 20.36667, 'label': 'August 27, 15', 'changeOverTime': 0.027}\n{'date': '2015-08-26', 'open': 19.69, 'high': 19.92, 'low': 18.79, 'close': 19.61, 'adjClose': 18.54, 'volume': 7616700.0, 'unadjustedVolume': 7616700.0, 'change': -0.08, 'changePercent': -0.406, 'vwap': 19.44, 'label': 'August 26, 15', 'changeOverTime': -0.00406}\n{'date': '2015-08-25', 'open': 20.35, 'high': 20.4, 'low': 19.2, 'close': 19.21, 'adjClose': 18.16, 'volume': 7703200.0, 'unadjustedVolume': 7703200.0, 'change': -1.14, 'changePercent': -5.602, 'vwap': 19.60333, 'label': 'August 25, 15', 'changeOverTime': -0.05602}\n{'date': '2015-08-24', 'open': 18.12, 'high': 19.66, 'low': 17.08, 'close': 19.54, 'adjClose': 18.47, 'volume': 12991100.0, 'unadjustedVolume': 12991100.0, 'change': 1.42, 'changePercent': 7.837, 'vwap': 18.76, 'label': 'August 24, 15', 'changeOverTime': 0.07837}\n{'date': '2015-08-21', 'open': 20.83, 'high': 20.95, 'low': 20.42, 'close': 20.59, 'adjClose': 19.47, 'volume': 10212900.0, 'unadjustedVolume': 10212900.0, 'change': -0.24, 'changePercent': -1.152, 'vwap': 20.65333, 'label': 'August 21, 15', 'changeOverTime': -0.01152}\n{'date': '2015-08-20', 'open': 21.66, 'high': 21.86, 'low': 21.23, 'close': 21.28, 'adjClose': 20.12, 'volume': 7717400.0, 'unadjustedVolume': 7717400.0, 'change': -0.38, 'changePercent': -1.754, 'vwap': 21.45667, 'label': 'August 20, 15', 'changeOverTime': -0.01754}\n{'date': '2015-08-19', 'open': 22.25, 'high': 22.46, 'low': 21.74, 'close': 22.07, 'adjClose': 20.87, 'volume': 5744700.0, 'unadjustedVolume': 5744700.0, 'change': -0.18, 'changePercent': -0.809, 'vwap': 22.09, 'label': 'August 19, 15', 'changeOverTime': -0.00809}\n{'date': '2015-08-18', 'open': 22.48, 'high': 22.63, 'low': 22.29, 'close': 22.48, 'adjClose': 21.25, 'volume': 4687200.0, 'unadjustedVolume': 4687200.0, 'change': 0.0, 'changePercent': 0.0, 'vwap': 22.46667, 'label': 'August 18, 15', 'changeOverTime': 0.0}\n{'date': '2015-08-17', 'open': 22.47, 'high': 22.75, 'low': 22.17, 'close': 22.64, 'adjClose': 21.4, 'volume': 4756800.0, 'unadjustedVolume': 4756800.0, 'change': 0.17, 'changePercent': 0.757, 'vwap': 22.52, 'label': 'August 17, 15', 'changeOverTime': 0.00757}\n{'date': '2015-08-14', 'open': 22.33, 'high': 22.69, 'low': 22.18, 'close': 22.48, 'adjClose': 21.25, 'volume': 9937900.0, 'unadjustedVolume': 9937900.0, 'change': 0.15, 'changePercent': 0.672, 'vwap': 22.45, 'label': 'August 14, 15', 'changeOverTime': 0.00672}\n{'date': '2015-08-13', 'open': 22.12, 'high': 22.41, 'low': 21.92, 'close': 22.25, 'adjClose': 21.04, 'volume': 8563100.0, 'unadjustedVolume': 8563100.0, 'change': 0.13, 'changePercent': 0.588, 'vwap': 22.19333, 'label': 'August 13, 15', 'changeOverTime': 0.00588}\n{'date': '2015-08-12', 'open': 21.73, 'high': 22.18, 'low': 21.3, 'close': 22.07, 'adjClose': 20.87, 'volume': 9870100.0, 'unadjustedVolume': 9870100.0, 'change': 0.34, 'changePercent': 1.565, 'vwap': 21.85, 'label': 'August 12, 15', 'changeOverTime': 0.01565}\n{'date': '2015-08-11', 'open': 22.12, 'high': 22.58, 'low': 21.77, 'close': 22.18, 'adjClose': 20.97, 'volume': 10634900.0, 'unadjustedVolume': 10634900.0, 'change': 0.06, 'changePercent': 0.271, 'vwap': 22.17667, 'label': 'August 11, 15', 'changeOverTime': 0.00271}\n{'date': '2015-08-10', 'open': 22.49, 'high': 22.77, 'low': 22.33, 'close': 22.6, 'adjClose': 21.37, 'volume': 10823500.0, 'unadjustedVolume': 10823500.0, 'change': 0.11, 'changePercent': 0.489, 'vwap': 22.56667, 'label': 'August 10, 15', 'changeOverTime': 0.00489}\n{'date': '2015-08-07', 'open': 21.96, 'high': 22.39, 'low': 21.95, 'close': 22.2, 'adjClose': 20.99, 'volume': 9003800.0, 'unadjustedVolume': 9003800.0, 'change': 0.24, 'changePercent': 1.093, 'vwap': 22.18, 'label': 'August 07, 15', 'changeOverTime': 0.01093}\n{'date': '2015-08-06', 'open': 22.46, 'high': 22.47, 'low': 21.89, 'close': 21.99, 'adjClose': 20.79, 'volume': 11853800.0, 'unadjustedVolume': 11853800.0, 'change': -0.47, 'changePercent': -2.093, 'vwap': 22.11667, 'label': 'August 06, 15', 'changeOverTime': -0.02093}\n{'date': '2015-08-05', 'open': 22.0, 'high': 22.76, 'low': 21.99, 'close': 22.36, 'adjClose': 21.14, 'volume': 15981000.0, 'unadjustedVolume': 15981000.0, 'change': 0.36, 'changePercent': 1.636, 'vwap': 22.37, 'label': 'August 05, 15', 'changeOverTime': 0.01636}\n{'date': '2015-08-04', 'open': 20.14, 'high': 21.98, 'low': 20.09, 'close': 21.75, 'adjClose': 20.56, 'volume': 33553300.0, 'unadjustedVolume': 33553300.0, 'change': 1.61, 'changePercent': 7.994, 'vwap': 21.27333, 'label': 'August 04, 15', 'changeOverTime': 0.07994}\n{'date': '2015-08-03', 'open': 19.59, 'high': 20.05, 'low': 19.5, 'close': 19.85, 'adjClose': 18.77, 'volume': 18628200.0, 'unadjustedVolume': 18628200.0, 'change': 0.26, 'changePercent': 1.327, 'vwap': 19.8, 'label': 'August 03, 15', 'changeOverTime': 0.01327}\n{'date': '2015-07-31', 'open': 19.62, 'high': 19.72, 'low': 19.24, 'close': 19.62, 'adjClose': 18.55, 'volume': 9339500.0, 'unadjustedVolume': 9339500.0, 'change': 0.0, 'changePercent': 0.0, 'vwap': 19.52667, 'label': 'July 31, 15', 'changeOverTime': 0.0}\n{'date': '2015-07-30', 'open': 18.43, 'high': 19.79, 'low': 16.84, 'close': 19.65, 'adjClose': 18.58, 'volume': 16209400.0, 'unadjustedVolume': 16209400.0, 'change': 1.22, 'changePercent': 6.62, 'vwap': 18.76, 'label': 'July 30, 15', 'changeOverTime': 0.0662}\n{'date': '2015-07-29', 'open': 18.16, 'high': 18.45, 'low': 18.12, 'close': 18.22, 'adjClose': 17.23, 'volume': 7041900.0, 'unadjustedVolume': 7041900.0, 'change': 0.06, 'changePercent': 0.33, 'vwap': 18.26333, 'label': 'July 29, 15', 'changeOverTime': 0.0033}\n{'date': '2015-07-28', 'open': 17.87, 'high': 18.11, 'low': 17.57, 'close': 18.01, 'adjClose': 17.03, 'volume': 8086700.0, 'unadjustedVolume': 8086700.0, 'change': 0.14, 'changePercent': 0.783, 'vwap': 17.89667, 'label': 'July 28, 15', 'changeOverTime': 0.00783}\n{'date': '2015-07-27', 'open': 17.82, 'high': 17.97, 'low': 17.52, 'close': 17.69, 'adjClose': 16.72, 'volume': 9880600.0, 'unadjustedVolume': 9880600.0, 'change': -0.13, 'changePercent': -0.73, 'vwap': 17.72667, 'label': 'July 27, 15', 'changeOverTime': -0.0073}\n{'date': '2015-07-24', 'open': 18.8, 'high': 18.8, 'low': 18.09, 'close': 18.11, 'adjClose': 17.12, 'volume': 7396200.0, 'unadjustedVolume': 7396200.0, 'change': -0.69, 'changePercent': -3.67, 'vwap': 18.33333, 'label': 'July 24, 15', 'changeOverTime': -0.0367}\n{'date': '2015-07-23', 'open': 18.98, 'high': 19.07, 'low': 18.47, 'close': 18.68, 'adjClose': 17.66, 'volume': 7963800.0, 'unadjustedVolume': 7963800.0, 'change': -0.3, 'changePercent': -1.581, 'vwap': 18.74, 'label': 'July 23, 15', 'changeOverTime': -0.01581}\n{'date': '2015-07-22', 'open': 18.28, 'high': 18.73, 'low': 18.21, 'close': 18.52, 'adjClose': 17.51, 'volume': 7502000.0, 'unadjustedVolume': 7502000.0, 'change': 0.24, 'changePercent': 1.313, 'vwap': 18.48667, 'label': 'July 22, 15', 'changeOverTime': 0.01313}\n{'date': '2015-07-21', 'open': 18.49, 'high': 18.82, 'low': 18.43, 'close': 18.48, 'adjClose': 17.47, 'volume': 6813100.0, 'unadjustedVolume': 6813100.0, 'change': -0.01, 'changePercent': -0.054, 'vwap': 18.57667, 'label': 'July 21, 15', 'changeOverTime': -0.00054}\n{'date': '2015-07-20', 'open': 18.5, 'high': 18.57, 'low': 18.24, 'close': 18.46, 'adjClose': 17.45, 'volume': 10758500.0, 'unadjustedVolume': 10758500.0, 'change': -0.04, 'changePercent': -0.216, 'vwap': 18.42333, 'label': 'July 20, 15', 'changeOverTime': -0.00216}\n{'date': '2015-07-17', 'open': 18.67, 'high': 18.7, 'low': 18.34, 'close': 18.45, 'adjClose': 17.44, 'volume': 5981800.0, 'unadjustedVolume': 5981800.0, 'change': -0.22, 'changePercent': -1.178, 'vwap': 18.49667, 'label': 'July 17, 15', 'changeOverTime': -0.01178}\n{'date': '2015-07-16', 'open': 18.69, 'high': 18.95, 'low': 18.53, 'close': 18.69, 'adjClose': 17.67, 'volume': 7922700.0, 'unadjustedVolume': 7922700.0, 'change': 0.0, 'changePercent': 0.0, 'vwap': 18.72333, 'label': 'July 16, 15', 'changeOverTime': 0.0}\n{'date': '2015-07-15', 'open': 18.86, 'high': 18.98, 'low': 18.33, 'close': 18.54, 'adjClose': 17.53, 'volume': 9166300.0, 'unadjustedVolume': 9166300.0, 'change': -0.32, 'changePercent': -1.697, 'vwap': 18.61667, 'label': 'July 15, 15', 'changeOverTime': -0.01697}\n{'date': '2015-07-14', 'open': 18.85, 'high': 19.24, 'low': 18.74, 'close': 18.92, 'adjClose': 17.89, 'volume': 8955400.0, 'unadjustedVolume': 8955400.0, 'change': 0.07, 'changePercent': 0.371, 'vwap': 18.96667, 'label': 'July 14, 15', 'changeOverTime': 0.00371}\n{'date': '2015-07-13', 'open': 18.74, 'high': 19.05, 'low': 18.51, 'close': 18.85, 'adjClose': 17.82, 'volume': 9869500.0, 'unadjustedVolume': 9869500.0, 'change': 0.11, 'changePercent': 0.587, 'vwap': 18.80333, 'label': 'July 13, 15', 'changeOverTime': 0.00587}\n{'date': '2015-07-10', 'open': 18.15, 'high': 18.24, 'low': 18.02, 'close': 18.15, 'adjClose': 17.16, 'volume': 7388700.0, 'unadjustedVolume': 7388700.0, 'change': 0.0, 'changePercent': 0.0, 'vwap': 18.13667, 'label': 'July 10, 15', 'changeOverTime': 0.0}\n{'date': '2015-07-09', 'open': 17.89, 'high': 18.26, 'low': 17.77, 'close': 17.84, 'adjClose': 16.87, 'volume': 11142100.0, 'unadjustedVolume': 11142100.0, 'change': -0.05, 'changePercent': -0.279, 'vwap': 17.95667, 'label': 'July 09, 15', 'changeOverTime': -0.00279}\n{'date': '2015-07-08', 'open': 18.53, 'high': 18.76, 'low': 17.49, 'close': 17.57, 'adjClose': 16.61, 'volume': 23308300.0, 'unadjustedVolume': 23308300.0, 'change': -0.96, 'changePercent': -5.181, 'vwap': 17.94, 'label': 'July 08, 15', 'changeOverTime': -0.05181}\n{'date': '2015-07-07', 'open': 18.46, 'high': 19.24, 'low': 17.88, 'close': 19.05, 'adjClose': 18.01, 'volume': 18901900.0, 'unadjustedVolume': 18901900.0, 'change': 0.59, 'changePercent': 3.196, 'vwap': 18.72333, 'label': 'July 07, 15', 'changeOverTime': 0.03196}\n{'date': '2015-07-06', 'open': 18.3, 'high': 18.56, 'low': 18.17, 'close': 18.27, 'adjClose': 17.27, 'volume': 7132100.0, 'unadjustedVolume': 7132100.0, 'change': -0.03, 'changePercent': -0.164, 'vwap': 18.33333, 'label': 'July 06, 15', 'changeOverTime': -0.00164}\n{'date': '2015-07-02', 'open': 18.71, 'high': 18.8, 'low': 18.44, 'close': 18.55, 'adjClose': 17.54, 'volume': 6537700.0, 'unadjustedVolume': 6537700.0, 'change': -0.16, 'changePercent': -0.855, 'vwap': 18.59667, 'label': 'July 02, 15', 'changeOverTime': -0.00855}\n{'date': '2015-07-01', 'open': 18.71, 'high': 18.96, 'low': 18.46, 'close': 18.55, 'adjClose': 17.54, 'volume': 8998100.0, 'unadjustedVolume': 8998100.0, 'change': -0.16, 'changePercent': -0.855, 'vwap': 18.65667, 'label': 'July 01, 15', 'changeOverTime': -0.00855}\n{'date': '2015-06-30', 'open': 18.07, 'high': 18.49, 'low': 17.97, 'close': 18.25, 'adjClose': 17.25, 'volume': 11973100.0, 'unadjustedVolume': 11973100.0, 'change': 0.18, 'changePercent': 0.996, 'vwap': 18.23667, 'label': 'June 30, 15', 'changeOverTime': 0.00996}\n{'date': '2015-06-29', 'open': 18.06, 'high': 18.15, 'low': 17.5, 'close': 17.58, 'adjClose': 16.62, 'volume': 13149600.0, 'unadjustedVolume': 13149600.0, 'change': -0.48, 'changePercent': -2.658, 'vwap': 17.74333, 'label': 'June 29, 15', 'changeOverTime': -0.02658}\n{'date': '2015-06-26', 'open': 18.52, 'high': 18.56, 'low': 18.16, 'close': 18.38, 'adjClose': 17.38, 'volume': 10993200.0, 'unadjustedVolume': 10993200.0, 'change': -0.14, 'changePercent': -0.756, 'vwap': 18.36667, 'label': 'June 26, 15', 'changeOverTime': -0.00756}\n{'date': '2015-06-25', 'open': 18.75, 'high': 18.8, 'low': 18.45, 'close': 18.64, 'adjClose': 17.62, 'volume': 6979200.0, 'unadjustedVolume': 6979200.0, 'change': -0.11, 'changePercent': -0.587, 'vwap': 18.63, 'label': 'June 25, 15', 'changeOverTime': -0.00587}\n{'date': '2015-06-24', 'open': 19.36, 'high': 19.43, 'low': 18.59, 'close': 18.63, 'adjClose': 17.61, 'volume': 9662300.0, 'unadjustedVolume': 9662300.0, 'change': -0.73, 'changePercent': -3.771, 'vwap': 18.88333, 'label': 'June 24, 15', 'changeOverTime': -0.03771}\n{'date': '2015-06-23', 'open': 19.1, 'high': 19.47, 'low': 18.97, 'close': 19.38, 'adjClose': 18.32, 'volume': 9875000.0, 'unadjustedVolume': 9875000.0, 'change': 0.28, 'changePercent': 1.466, 'vwap': 19.27333, 'label': 'June 23, 15', 'changeOverTime': 0.01466}\n{'date': '2015-06-22', 'open': 19.61, 'high': 19.68, 'low': 19.09, 'close': 19.09, 'adjClose': 18.05, 'volume': 7360000.0, 'unadjustedVolume': 7360000.0, 'change': -0.52, 'changePercent': -2.652, 'vwap': 19.28667, 'label': 'June 22, 15', 'changeOverTime': -0.02652}\n{'date': '2015-06-19', 'open': 19.49, 'high': 19.64, 'low': 19.41, 'close': 19.5, 'adjClose': 18.44, 'volume': 9631900.0, 'unadjustedVolume': 9631900.0, 'change': 0.01, 'changePercent': 0.051, 'vwap': 19.51667, 'label': 'June 19, 15', 'changeOverTime': 0.00051}\n{'date': '2015-06-18', 'open': 19.52, 'high': 19.65, 'low': 19.38, 'close': 19.5, 'adjClose': 18.44, 'volume': 6778600.0, 'unadjustedVolume': 6778600.0, 'change': -0.02, 'changePercent': -0.102, 'vwap': 19.51, 'label': 'June 18, 15', 'changeOverTime': -0.00102}\n{'date': '2015-06-17', 'open': 19.2, 'high': 19.48, 'low': 19.13, 'close': 19.42, 'adjClose': 18.36, 'volume': 9902800.0, 'unadjustedVolume': 9902800.0, 'change': 0.22, 'changePercent': 1.146, 'vwap': 19.34333, 'label': 'June 17, 15', 'changeOverTime': 0.01146}\n{'date': '2015-06-16', 'open': 19.15, 'high': 19.64, 'low': 19.03, 'close': 19.09, 'adjClose': 18.05, 'volume': 12755900.0, 'unadjustedVolume': 12755900.0, 'change': -0.06, 'changePercent': -0.313, 'vwap': 19.25333, 'label': 'June 16, 15', 'changeOverTime': -0.00313}\n{'date': '2015-06-15', 'open': 19.25, 'high': 19.43, 'low': 19.17, 'close': 19.23, 'adjClose': 18.18, 'volume': 6668400.0, 'unadjustedVolume': 6668400.0, 'change': -0.02, 'changePercent': -0.104, 'vwap': 19.27667, 'label': 'June 15, 15', 'changeOverTime': -0.00104}\n{'date': '2015-06-12', 'open': 19.68, 'high': 19.78, 'low': 19.38, 'close': 19.43, 'adjClose': 18.37, 'volume': 6142000.0, 'unadjustedVolume': 6142000.0, 'change': -0.25, 'changePercent': -1.27, 'vwap': 19.53, 'label': 'June 12, 15', 'changeOverTime': -0.0127}\n{'date': '2015-06-11', 'open': 19.6, 'high': 19.83, 'low': 19.36, 'close': 19.82, 'adjClose': 18.74, 'volume': 6701200.0, 'unadjustedVolume': 6701200.0, 'change': 0.22, 'changePercent': 1.122, 'vwap': 19.67, 'label': 'June 11, 15', 'changeOverTime': 0.01122}\n{'date': '2015-06-10', 'open': 19.49, 'high': 19.64, 'low': 19.4, 'close': 19.53, 'adjClose': 18.46, 'volume': 5377200.0, 'unadjustedVolume': 5377200.0, 'change': 0.04, 'changePercent': 0.205, 'vwap': 19.52333, 'label': 'June 10, 15', 'changeOverTime': 0.00205}\n{'date': '2015-06-09', 'open': 19.2, 'high': 19.51, 'low': 19.19, 'close': 19.35, 'adjClose': 18.29, 'volume': 6771600.0, 'unadjustedVolume': 6771600.0, 'change': 0.15, 'changePercent': 0.781, 'vwap': 19.35, 'label': 'June 09, 15', 'changeOverTime': 0.00781}\n{'date': '2015-06-08', 'open': 19.67, 'high': 19.83, 'low': 19.15, 'close': 19.17, 'adjClose': 18.12, 'volume': 12287600.0, 'unadjustedVolume': 12287600.0, 'change': -0.5, 'changePercent': -2.542, 'vwap': 19.38333, 'label': 'June 08, 15', 'changeOverTime': -0.02542}\n{'date': '2015-06-05', 'open': 20.27, 'high': 20.48, 'low': 20.09, 'close': 20.28, 'adjClose': 19.17, 'volume': 7621900.0, 'unadjustedVolume': 7621900.0, 'change': 0.01, 'changePercent': 0.049, 'vwap': 20.28333, 'label': 'June 05, 15', 'changeOverTime': 0.00049}\n{'date': '2015-06-04', 'open': 20.15, 'high': 20.58, 'low': 19.97, 'close': 20.28, 'adjClose': 19.17, 'volume': 15202600.0, 'unadjustedVolume': 15202600.0, 'change': 0.13, 'changePercent': 0.645, 'vwap': 20.27667, 'label': 'June 04, 15', 'changeOverTime': 0.00645}\n{'date': '2015-06-03', 'open': 19.88, 'high': 20.06, 'low': 19.54, 'close': 19.71, 'adjClose': 18.63, 'volume': 7628000.0, 'unadjustedVolume': 7628000.0, 'change': -0.17, 'changePercent': -0.855, 'vwap': 19.77, 'label': 'June 03, 15', 'changeOverTime': -0.00855}\n{'date': '2015-06-02', 'open': 19.52, 'high': 19.9, 'low': 19.52, 'close': 19.77, 'adjClose': 18.69, 'volume': 3733600.0, 'unadjustedVolume': 3733600.0, 'change': 0.25, 'changePercent': 1.281, 'vwap': 19.73, 'label': 'June 02, 15', 'changeOverTime': 0.01281}\n{'date': '2015-06-01', 'open': 19.96, 'high': 19.99, 'low': 19.5, 'close': 19.58, 'adjClose': 18.51, 'volume': 6377300.0, 'unadjustedVolume': 6377300.0, 'change': -0.38, 'changePercent': -1.904, 'vwap': 19.69, 'label': 'June 01, 15', 'changeOverTime': -0.01904}\n{'date': '2015-05-29', 'open': 20.18, 'high': 20.28, 'low': 20.0, 'close': 20.05, 'adjClose': 18.96, 'volume': 8360300.0, 'unadjustedVolume': 8360300.0, 'change': -0.13, 'changePercent': -0.644, 'vwap': 20.11, 'label': 'May 29, 15', 'changeOverTime': -0.00644}\n{'date': '2015-05-28', 'open': 19.83, 'high': 20.21, 'low': 19.8, 'close': 20.19, 'adjClose': 19.09, 'volume': 7333000.0, 'unadjustedVolume': 7333000.0, 'change': 0.36, 'changePercent': 1.815, 'vwap': 20.06667, 'label': 'May 28, 15', 'changeOverTime': 0.01815}\n{'date': '2015-05-27', 'open': 19.89, 'high': 19.96, 'low': 19.74, 'close': 19.91, 'adjClose': 18.82, 'volume': 4945900.0, 'unadjustedVolume': 4945900.0, 'change': 0.02, 'changePercent': 0.101, 'vwap': 19.87, 'label': 'May 27, 15', 'changeOverTime': 0.00101}\n{'date': '2015-05-26', 'open': 20.31, 'high': 20.36, 'low': 19.78, 'close': 19.87, 'adjClose': 18.79, 'volume': 11332200.0, 'unadjustedVolume': 11332200.0, 'change': -0.44, 'changePercent': -2.166, 'vwap': 20.00333, 'label': 'May 26, 15', 'changeOverTime': -0.02166}\n{'date': '2015-05-22', 'open': 20.17, 'high': 20.59, 'low': 20.17, 'close': 20.51, 'adjClose': 19.39, 'volume': 11485500.0, 'unadjustedVolume': 11485500.0, 'change': 0.34, 'changePercent': 1.686, 'vwap': 20.42333, 'label': 'May 22, 15', 'changeOverTime': 0.01686}\n"
    }
   ],
   "source": [
    "stock = 'MGM'\n",
    "\n",
    "stock_history = getCompanyHourlyPrice(stock_history, stock)"
   ]
  },
  {
   "cell_type": "code",
   "execution_count": 11,
   "metadata": {
    "tags": [
     "outputPrepend",
     "outputPrepend",
     "outputPrepend",
     "outputPrepend",
     "outputPrepend",
     "outputPrepend",
     "outputPrepend",
     "outputPrepend",
     "outputPrepend",
     "outputPrepend",
     "outputPrepend",
     "outputPrepend",
     "outputPrepend"
    ]
   },
   "outputs": [
    {
     "output_type": "stream",
     "name": "stdout",
     "text": "6.58667, 'label': 'January 28, 20', 'changeOverTime': 0.00971}\n{'date': '2020-01-29', 'open': 16.7, 'high': 16.75, 'low': 16.65, 'close': 16.72, 'adjClose': 16.56, 'volume': 2284100.0, 'unadjustedVolume': 2284100.0, 'change': 0.02, 'changePercent': 0.12, 'vwap': 16.70667, 'label': 'January 29, 20', 'changeOverTime': 0.0012}\n{'date': '2020-01-30', 'open': 16.67, 'high': 16.82, 'low': 16.66, 'close': 16.8, 'adjClose': 16.64, 'volume': 2615200.0, 'unadjustedVolume': 2615200.0, 'change': 0.13, 'changePercent': 0.78, 'vwap': 16.76, 'label': 'January 30, 20', 'changeOverTime': 0.0078}\n{'date': '2020-01-31', 'open': 16.85, 'high': 16.92, 'low': 16.72, 'close': 16.74, 'adjClose': 16.58, 'volume': 5790500.0, 'unadjustedVolume': 5790500.0, 'change': -0.11, 'changePercent': -0.653, 'vwap': 16.79333, 'label': 'January 31, 20', 'changeOverTime': -0.00653}\n{'date': '2020-02-03', 'open': 16.76, 'high': 16.95, 'low': 16.7, 'close': 16.81, 'adjClose': 16.65, 'volume': 4780700.0, 'unadjustedVolume': 4780700.0, 'change': 0.05, 'changePercent': 0.298, 'vwap': 16.82, 'label': 'February 03, 20', 'changeOverTime': 0.00298}\n{'date': '2020-02-04', 'open': 16.9, 'high': 16.98, 'low': 16.77, 'close': 16.84, 'adjClose': 16.68, 'volume': 3854900.0, 'unadjustedVolume': 3854900.0, 'change': -0.06, 'changePercent': -0.355, 'vwap': 16.86333, 'label': 'February 04, 20', 'changeOverTime': -0.00355}\n{'date': '2020-02-05', 'open': 16.94, 'high': 17.05, 'low': 16.88, 'close': 16.95, 'adjClose': 16.79, 'volume': 5596700.0, 'unadjustedVolume': 5596700.0, 'change': 0.01, 'changePercent': 0.059, 'vwap': 16.96, 'label': 'February 05, 20', 'changeOverTime': 0.00059}\n{'date': '2020-02-06', 'open': 17.23, 'high': 17.63, 'low': 17.1, 'close': 17.48, 'adjClose': 17.32, 'volume': 12284700.0, 'unadjustedVolume': 12284700.0, 'change': 0.25, 'changePercent': 1.451, 'vwap': 17.40333, 'label': 'February 06, 20', 'changeOverTime': 0.01451}\n{'date': '2020-02-07', 'open': 17.47, 'high': 17.54, 'low': 17.22, 'close': 17.24, 'adjClose': 17.08, 'volume': 4798400.0, 'unadjustedVolume': 4798400.0, 'change': -0.23, 'changePercent': -1.317, 'vwap': 17.33333, 'label': 'February 07, 20', 'changeOverTime': -0.01317}\n{'date': '2020-02-10', 'open': 17.31, 'high': 17.41, 'low': 17.16, 'close': 17.28, 'adjClose': 17.12, 'volume': 4972800.0, 'unadjustedVolume': 4972800.0, 'change': -0.03, 'changePercent': -0.173, 'vwap': 17.28333, 'label': 'February 10, 20', 'changeOverTime': -0.00173}\n{'date': '2020-02-11', 'open': 17.3, 'high': 17.53, 'low': 17.26, 'close': 17.41, 'adjClose': 17.25, 'volume': 4206200.0, 'unadjustedVolume': 4206200.0, 'change': 0.11, 'changePercent': 0.636, 'vwap': 17.4, 'label': 'February 11, 20', 'changeOverTime': 0.00636}\n{'date': '2020-02-12', 'open': 17.46, 'high': 17.57, 'low': 17.4, 'close': 17.46, 'adjClose': 17.3, 'volume': 4909900.0, 'unadjustedVolume': 4909900.0, 'change': 0.0, 'changePercent': 0.0, 'vwap': 17.47667, 'label': 'February 12, 20', 'changeOverTime': 0.0}\n{'date': '2020-02-13', 'open': 17.51, 'high': 17.6, 'low': 17.43, 'close': 17.5, 'adjClose': 17.34, 'volume': 4507900.0, 'unadjustedVolume': 4507900.0, 'change': -0.01, 'changePercent': -0.057, 'vwap': 17.51, 'label': 'February 13, 20', 'changeOverTime': -0.00057}\n{'date': '2020-02-14', 'open': 17.5, 'high': 17.63, 'low': 17.45, 'close': 17.63, 'adjClose': 17.46, 'volume': 2917300.0, 'unadjustedVolume': 2917300.0, 'change': 0.13, 'changePercent': 0.743, 'vwap': 17.57, 'label': 'February 14, 20', 'changeOverTime': 0.00743}\n{'date': '2020-02-18', 'open': 17.58, 'high': 17.64, 'low': 17.51, 'close': 17.59, 'adjClose': 17.43, 'volume': 4714100.0, 'unadjustedVolume': 4714100.0, 'change': 0.01, 'changePercent': 0.057, 'vwap': 17.58, 'label': 'February 18, 20', 'changeOverTime': 0.00057}\n{'date': '2020-02-19', 'open': 17.65, 'high': 17.66, 'low': 17.46, 'close': 17.53, 'adjClose': 17.37, 'volume': 4774800.0, 'unadjustedVolume': 4774800.0, 'change': -0.12, 'changePercent': -0.68, 'vwap': 17.55, 'label': 'February 19, 20', 'changeOverTime': -0.0068}\n{'date': '2020-02-20', 'open': 17.53, 'high': 17.6, 'low': 17.46, 'close': 17.6, 'adjClose': 17.44, 'volume': 4231200.0, 'unadjustedVolume': 4231200.0, 'change': 0.07, 'changePercent': 0.399, 'vwap': 17.55333, 'label': 'February 20, 20', 'changeOverTime': 0.00399}\n{'date': '2020-02-21', 'open': 17.58, 'high': 17.59, 'low': 17.37, 'close': 17.44, 'adjClose': 17.28, 'volume': 5281900.0, 'unadjustedVolume': 5281900.0, 'change': -0.14, 'changePercent': -0.796, 'vwap': 17.46667, 'label': 'February 21, 20', 'changeOverTime': -0.00796}\n{'date': '2020-02-24', 'open': 17.04, 'high': 17.25, 'low': 16.88, 'close': 17.18, 'adjClose': 17.02, 'volume': 5732600.0, 'unadjustedVolume': 5732600.0, 'change': 0.14, 'changePercent': 0.822, 'vwap': 17.10333, 'label': 'February 24, 20', 'changeOverTime': 0.00822}\n{'date': '2020-02-25', 'open': 17.2, 'high': 17.33, 'low': 16.6, 'close': 16.69, 'adjClose': 16.53, 'volume': 7494600.0, 'unadjustedVolume': 7494600.0, 'change': -0.51, 'changePercent': -2.965, 'vwap': 16.87333, 'label': 'February 25, 20', 'changeOverTime': -0.02965}\n{'date': '2020-02-26', 'open': 16.69, 'high': 17.08, 'low': 16.64, 'close': 16.76, 'adjClose': 16.6, 'volume': 5441200.0, 'unadjustedVolume': 5441200.0, 'change': 0.07, 'changePercent': 0.419, 'vwap': 16.82667, 'label': 'February 26, 20', 'changeOverTime': 0.00419}\n{'date': '2020-02-27', 'open': 16.53, 'high': 16.59, 'low': 15.78, 'close': 15.98, 'adjClose': 15.83, 'volume': 12195100.0, 'unadjustedVolume': 12195100.0, 'change': -0.55, 'changePercent': -3.327, 'vwap': 16.11667, 'label': 'February 27, 20', 'changeOverTime': -0.03327}\n{'date': '2020-02-28', 'open': 15.33, 'high': 15.77, 'low': 15.13, 'close': 15.56, 'adjClose': 15.41, 'volume': 12680300.0, 'unadjustedVolume': 12680300.0, 'change': 0.23, 'changePercent': 1.5, 'vwap': 15.48667, 'label': 'February 28, 20', 'changeOverTime': 0.015}\n{'date': '2020-03-02', 'open': 15.68, 'high': 16.54, 'low': 15.68, 'close': 16.54, 'adjClose': 16.39, 'volume': 7946000.0, 'unadjustedVolume': 7946000.0, 'change': 0.86, 'changePercent': 5.485, 'vwap': 16.25333, 'label': 'March 02, 20', 'changeOverTime': 0.05485}\n{'date': '2020-03-03', 'open': 16.57, 'high': 16.83, 'low': 15.98, 'close': 16.19, 'adjClose': 16.04, 'volume': 7343600.0, 'unadjustedVolume': 7343600.0, 'change': -0.38, 'changePercent': -2.293, 'vwap': 16.33333, 'label': 'March 03, 20', 'changeOverTime': -0.02293}\n{'date': '2020-03-04', 'open': 16.36, 'high': 16.56, 'low': 16.2, 'close': 16.44, 'adjClose': 16.29, 'volume': 9342500.0, 'unadjustedVolume': 9342500.0, 'change': 0.08, 'changePercent': 0.489, 'vwap': 16.4, 'label': 'March 04, 20', 'changeOverTime': 0.00489}\n{'date': '2020-03-05', 'open': 16.21, 'high': 16.37, 'low': 15.99, 'close': 16.11, 'adjClose': 15.96, 'volume': 7191100.0, 'unadjustedVolume': 7191100.0, 'change': -0.1, 'changePercent': -0.617, 'vwap': 16.15667, 'label': 'March 05, 20', 'changeOverTime': -0.00617}\n{'date': '2020-03-06', 'open': 15.75, 'high': 15.83, 'low': 15.24, 'close': 15.71, 'adjClose': 15.56, 'volume': 6443100.0, 'unadjustedVolume': 6443100.0, 'change': -0.04, 'changePercent': -0.254, 'vwap': 15.59333, 'label': 'March 06, 20', 'changeOverTime': -0.00254}\n{'date': '2020-03-09', 'open': 14.4, 'high': 14.85, 'low': 14.05, 'close': 14.07, 'adjClose': 13.94, 'volume': 10028300.0, 'unadjustedVolume': 10028300.0, 'change': -0.33, 'changePercent': -2.292, 'vwap': 14.32333, 'label': 'March 09, 20', 'changeOverTime': -0.02292}\n{'date': '2020-03-10', 'open': 14.87, 'high': 14.87, 'low': 13.99, 'close': 14.59, 'adjClose': 14.45, 'volume': 5518400.0, 'unadjustedVolume': 5518400.0, 'change': -0.28, 'changePercent': -1.883, 'vwap': 14.48333, 'label': 'March 10, 20', 'changeOverTime': -0.01883}\n{'date': '2020-03-11', 'open': 14.26, 'high': 14.26, 'low': 13.56, 'close': 13.75, 'adjClose': 13.62, 'volume': 9067600.0, 'unadjustedVolume': 9067600.0, 'change': -0.51, 'changePercent': -3.576, 'vwap': 13.85667, 'label': 'March 11, 20', 'changeOverTime': -0.03576}\n{'date': '2020-03-12', 'open': 11.77, 'high': 12.09, 'low': 10.9, 'close': 11.61, 'adjClose': 11.5, 'volume': 17911400.0, 'unadjustedVolume': 17911400.0, 'change': -0.16, 'changePercent': -1.359, 'vwap': 11.53333, 'label': 'March 12, 20', 'changeOverTime': -0.01359}\n{'date': '2020-03-13', 'open': 13.5, 'high': 13.51, 'low': 11.5, 'close': 12.09, 'adjClose': 11.98, 'volume': 10461300.0, 'unadjustedVolume': 10461300.0, 'change': -1.41, 'changePercent': -10.444, 'vwap': 12.36667, 'label': 'March 13, 20', 'changeOverTime': -0.10444}\n{'date': '2020-03-16', 'open': 10.5, 'high': 11.18, 'low': 10.13, 'close': 10.56, 'adjClose': 10.46, 'volume': 9971700.0, 'unadjustedVolume': 9971700.0, 'change': 0.06, 'changePercent': 0.571, 'vwap': 10.62333, 'label': 'March 16, 20', 'changeOverTime': 0.00571}\n{'date': '2020-03-17', 'open': 10.69, 'high': 10.74, 'low': 9.01, 'close': 9.85, 'adjClose': 9.76, 'volume': 13830700.0, 'unadjustedVolume': 13830700.0, 'change': -0.84, 'changePercent': -7.858, 'vwap': 9.86667, 'label': 'March 17, 20', 'changeOverTime': -0.07858}\n{'date': '2020-03-18', 'open': 9.07, 'high': 9.16, 'low': 4.36, 'close': 5.73, 'adjClose': 5.68, 'volume': 26043000.0, 'unadjustedVolume': 26043000.0, 'change': -3.34, 'changePercent': -36.825, 'vwap': 6.41667, 'label': 'March 18, 20', 'changeOverTime': -0.36825}\n{'date': '2020-03-19', 'open': 6.4, 'high': 7.5, 'low': 5.07, 'close': 6.75, 'adjClose': 6.69, 'volume': 20996900.0, 'unadjustedVolume': 20996900.0, 'change': 0.35, 'changePercent': 5.469, 'vwap': 6.44, 'label': 'March 19, 20', 'changeOverTime': 0.05469}\n{'date': '2020-03-20', 'open': 7.73, 'high': 9.15, 'low': 6.91, 'close': 7.01, 'adjClose': 6.94, 'volume': 19506900.0, 'unadjustedVolume': 19506900.0, 'change': -0.72, 'changePercent': -9.314, 'vwap': 7.69, 'label': 'March 20, 20', 'changeOverTime': -0.09314}\n{'date': '2020-03-23', 'open': 7.03, 'high': 7.08, 'low': 5.05, 'close': 5.29, 'adjClose': 5.24, 'volume': 27053900.0, 'unadjustedVolume': 27053900.0, 'change': -1.74, 'changePercent': -24.751, 'vwap': 5.80667, 'label': 'March 23, 20', 'changeOverTime': -0.24751}\n{'date': '2020-03-24', 'open': 6.01, 'high': 6.04, 'low': 4.52, 'close': 4.57, 'adjClose': 4.53, 'volume': 33231100.0, 'unadjustedVolume': 33231100.0, 'change': -1.44, 'changePercent': -23.96, 'vwap': 5.04333, 'label': 'March 24, 20', 'changeOverTime': -0.2396}\n{'date': '2020-03-25', 'open': 5.1, 'high': 5.97, 'low': 4.52, 'close': 5.19, 'adjClose': 5.14, 'volume': 29099200.0, 'unadjustedVolume': 29099200.0, 'change': 0.09, 'changePercent': 1.765, 'vwap': 5.22667, 'label': 'March 25, 20', 'changeOverTime': 0.01765}\n{'date': '2020-03-26', 'open': 5.7, 'high': 8.1, 'low': 5.54, 'close': 7.26, 'adjClose': 7.19, 'volume': 41008800.0, 'unadjustedVolume': 41008800.0, 'change': 1.56, 'changePercent': 27.368, 'vwap': 6.96667, 'label': 'March 26, 20', 'changeOverTime': 0.27368}\n{'date': '2020-03-27', 'open': 7.22, 'high': 7.71, 'low': 6.8, 'close': 6.88, 'adjClose': 6.82, 'volume': 20416700.0, 'unadjustedVolume': 20416700.0, 'change': -0.34, 'changePercent': -4.709, 'vwap': 7.13, 'label': 'March 27, 20', 'changeOverTime': -0.04709}\n{'date': '2020-03-30', 'open': 6.5, 'high': 6.55, 'low': 5.29, 'close': 5.97, 'adjClose': 5.91, 'volume': 15734900.0, 'unadjustedVolume': 15734900.0, 'change': -0.53, 'changePercent': -8.154, 'vwap': 5.93667, 'label': 'March 30, 20', 'changeOverTime': -0.08154}\n{'date': '2020-03-31', 'open': 5.41, 'high': 5.85, 'low': 4.72, 'close': 5.01, 'adjClose': 4.96, 'volume': 29014700.0, 'unadjustedVolume': 29014700.0, 'change': -0.4, 'changePercent': -7.394, 'vwap': 5.19333, 'label': 'March 31, 20', 'changeOverTime': -0.07394}\n{'date': '2020-04-01', 'open': 4.64, 'high': 4.89, 'low': 4.28, 'close': 4.36, 'adjClose': 4.32, 'volume': 21590200.0, 'unadjustedVolume': 21590200.0, 'change': -0.28, 'changePercent': -6.034, 'vwap': 4.51, 'label': 'April 01, 20', 'changeOverTime': -0.06034}\n{'date': '2020-04-02', 'open': 4.37, 'high': 4.66, 'low': 4.24, 'close': 4.26, 'adjClose': 4.22, 'volume': 13854500.0, 'unadjustedVolume': 13854500.0, 'change': -0.11, 'changePercent': -2.517, 'vwap': 4.38667, 'label': 'April 02, 20', 'changeOverTime': -0.02517}\n{'date': '2020-04-03', 'open': 4.18, 'high': 4.19, 'low': 2.91, 'close': 3.33, 'adjClose': 3.3, 'volume': 40110000.0, 'unadjustedVolume': 40110000.0, 'change': -0.85, 'changePercent': -20.335, 'vwap': 3.47667, 'label': 'April 03, 20', 'changeOverTime': -0.20335}\n{'date': '2020-04-06', 'open': 3.76, 'high': 3.87, 'low': 3.33, 'close': 3.43, 'adjClose': 3.4, 'volume': 23784400.0, 'unadjustedVolume': 23784400.0, 'change': -0.33, 'changePercent': -8.777, 'vwap': 3.54333, 'label': 'April 06, 20', 'changeOverTime': -0.08777}\n{'date': '2020-04-07', 'open': 3.85, 'high': 4.73, 'low': 3.7, 'close': 3.96, 'adjClose': 3.92, 'volume': 34466400.0, 'unadjustedVolume': 34466400.0, 'change': 0.11, 'changePercent': 2.857, 'vwap': 4.13, 'label': 'April 07, 20', 'changeOverTime': 0.02857}\n{'date': '2020-04-08', 'open': 4.37, 'high': 5.27, 'low': 4.12, 'close': 5.11, 'adjClose': 5.06, 'volume': 29367900.0, 'unadjustedVolume': 29367900.0, 'change': 0.74, 'changePercent': 16.934, 'vwap': 4.83333, 'label': 'April 08, 20', 'changeOverTime': 0.16934}\n{'date': '2020-04-09', 'open': 5.95, 'high': 6.83, 'low': 5.35, 'close': 5.75, 'adjClose': 5.7, 'volume': 33685800.0, 'unadjustedVolume': 33685800.0, 'change': -0.2, 'changePercent': -3.361, 'vwap': 5.97667, 'label': 'April 09, 20', 'changeOverTime': -0.03361}\n{'date': '2020-04-13', 'open': 5.97, 'high': 5.98, 'low': 5.05, 'close': 5.34, 'adjClose': 5.29, 'volume': 20626800.0, 'unadjustedVolume': 20626800.0, 'change': -0.63, 'changePercent': -10.553, 'vwap': 5.45667, 'label': 'April 13, 20', 'changeOverTime': -0.10553}\n{'date': '2020-04-14', 'open': 5.46, 'high': 5.73, 'low': 5.01, 'close': 5.21, 'adjClose': 5.21, 'volume': 13924800.0, 'unadjustedVolume': 13924800.0, 'change': -0.25, 'changePercent': -4.579, 'vwap': 5.31667, 'label': 'April 14, 20', 'changeOverTime': -0.04579}\n{'date': '2020-04-15', 'open': 4.89, 'high': 4.99, 'low': 4.65, 'close': 4.85, 'adjClose': 4.85, 'volume': 10120400.0, 'unadjustedVolume': 10120400.0, 'change': -0.04, 'changePercent': -0.818, 'vwap': 4.83, 'label': 'April 15, 20', 'changeOverTime': -0.00818}\n{'date': '2020-04-16', 'open': 4.83, 'high': 4.9, 'low': 4.54, 'close': 4.67, 'adjClose': 4.67, 'volume': 9905800.0, 'unadjustedVolume': 9905800.0, 'change': -0.16, 'changePercent': -3.313, 'vwap': 4.70333, 'label': 'April 16, 20', 'changeOverTime': -0.03313}\n{'date': '2020-04-17', 'open': 4.95, 'high': 5.57, 'low': 4.86, 'close': 5.34, 'adjClose': 5.34, 'volume': 18509100.0, 'unadjustedVolume': 18509100.0, 'change': 0.39, 'changePercent': 7.879, 'vwap': 5.25667, 'label': 'April 17, 20', 'changeOverTime': 0.07879}\n{'date': '2020-04-20', 'open': 5.03, 'high': 5.29, 'low': 4.85, 'close': 5.02, 'adjClose': 5.02, 'volume': 10200300.0, 'unadjustedVolume': 10200300.0, 'change': -0.01, 'changePercent': -0.199, 'vwap': 5.05333, 'label': 'April 20, 20', 'changeOverTime': -0.00199}\n{'date': '2020-04-21', 'open': 4.84, 'high': 5.91, 'low': 4.79, 'close': 5.85, 'adjClose': 5.85, 'volume': 22190300.0, 'unadjustedVolume': 22190300.0, 'change': 1.01, 'changePercent': 20.868, 'vwap': 5.51667, 'label': 'April 21, 20', 'changeOverTime': 0.20868}\n{'date': '2020-04-22', 'open': 6.16, 'high': 6.36, 'low': 5.4, 'close': 5.53, 'adjClose': 5.53, 'volume': 16764500.0, 'unadjustedVolume': 16764500.0, 'change': -0.63, 'changePercent': -10.227, 'vwap': 5.76333, 'label': 'April 22, 20', 'changeOverTime': -0.10227}\n{'date': '2020-04-23', 'open': 5.48, 'high': 5.88, 'low': 5.46, 'close': 5.52, 'adjClose': 5.52, 'volume': 8731700.0, 'unadjustedVolume': 8731700.0, 'change': 0.04, 'changePercent': 0.73, 'vwap': 5.62, 'label': 'April 23, 20', 'changeOverTime': 0.0073}\n{'date': '2020-04-24', 'open': 5.38, 'high': 5.39, 'low': 4.95, 'close': 5.22, 'adjClose': 5.22, 'volume': 15316600.0, 'unadjustedVolume': 15316600.0, 'change': -0.16, 'changePercent': -2.974, 'vwap': 5.18667, 'label': 'April 24, 20', 'changeOverTime': -0.02974}\n{'date': '2020-04-27', 'open': 5.25, 'high': 5.71, 'low': 5.07, 'close': 5.55, 'adjClose': 5.55, 'volume': 11132800.0, 'unadjustedVolume': 11132800.0, 'change': 0.3, 'changePercent': 5.714, 'vwap': 5.44333, 'label': 'April 27, 20', 'changeOverTime': 0.05714}\n{'date': '2020-04-28', 'open': 5.9, 'high': 6.06, 'low': 5.57, 'close': 5.9, 'adjClose': 5.9, 'volume': 12506100.0, 'unadjustedVolume': 12506100.0, 'change': 0.0, 'changePercent': 0.0, 'vwap': 5.84333, 'label': 'April 28, 20', 'changeOverTime': 0.0}\n{'date': '2020-04-29', 'open': 6.16, 'high': 6.77, 'low': 6.06, 'close': 6.56, 'adjClose': 6.56, 'volume': 14745400.0, 'unadjustedVolume': 14745400.0, 'change': 0.4, 'changePercent': 6.494, 'vwap': 6.46333, 'label': 'April 29, 20', 'changeOverTime': 0.06494}\n{'date': '2020-04-30', 'open': 6.45, 'high': 6.49, 'low': 5.96, 'close': 6.09, 'adjClose': 6.09, 'volume': 11582900.0, 'unadjustedVolume': 11582900.0, 'change': -0.36, 'changePercent': -5.581, 'vwap': 6.18, 'label': 'April 30, 20', 'changeOverTime': -0.05581}\n{'date': '2020-05-01', 'open': 5.89, 'high': 6.06, 'low': 5.62, 'close': 5.85, 'adjClose': 5.85, 'volume': 9148200.0, 'unadjustedVolume': 9148200.0, 'change': -0.04, 'changePercent': -0.679, 'vwap': 5.84333, 'label': 'May 01, 20', 'changeOverTime': -0.00679}\n{'date': '2020-05-04', 'open': 5.56, 'high': 6.07, 'low': 5.45, 'close': 6.06, 'adjClose': 6.06, 'volume': 12586300.0, 'unadjustedVolume': 12586300.0, 'change': 0.5, 'changePercent': 8.993, 'vwap': 5.86, 'label': 'May 04, 20', 'changeOverTime': 0.08993}\n{'date': '2020-05-05', 'open': 6.85, 'high': 7.11, 'low': 6.45, 'close': 6.52, 'adjClose': 6.52, 'volume': 23667600.0, 'unadjustedVolume': 23667600.0, 'change': -0.33, 'changePercent': -4.818, 'vwap': 6.69333, 'label': 'May 05, 20', 'changeOverTime': -0.04818}\n{'date': '2020-05-06', 'open': 6.5, 'high': 6.79, 'low': 6.07, 'close': 6.11, 'adjClose': 6.11, 'volume': 11647000.0, 'unadjustedVolume': 11647000.0, 'change': -0.39, 'changePercent': -6.0, 'vwap': 6.32333, 'label': 'May 06, 20', 'changeOverTime': -0.06}\n{'date': '2020-05-07', 'open': 6.22, 'high': 6.55, 'low': 6.12, 'close': 6.27, 'adjClose': 6.27, 'volume': 9552500.0, 'unadjustedVolume': 9552500.0, 'change': 0.05, 'changePercent': 0.804, 'vwap': 6.31333, 'label': 'May 07, 20', 'changeOverTime': 0.00804}\n{'date': '2020-05-08', 'open': 6.38, 'high': 6.64, 'low': 6.31, 'close': 6.6, 'adjClose': 6.6, 'volume': 8112500.0, 'unadjustedVolume': 8112500.0, 'change': 0.22, 'changePercent': 3.448, 'vwap': 6.51667, 'label': 'May 08, 20', 'changeOverTime': 0.03448}\n{'date': '2020-05-11', 'open': 6.43, 'high': 6.47, 'low': 6.26, 'close': 6.31, 'adjClose': 6.31, 'volume': 8174400.0, 'unadjustedVolume': 8174400.0, 'change': -0.12, 'changePercent': -1.866, 'vwap': 6.34667, 'label': 'May 11, 20', 'changeOverTime': -0.01866}\n{'date': '2020-05-12', 'open': 6.38, 'high': 6.45, 'low': 6.02, 'close': 6.11, 'adjClose': 6.11, 'volume': 9112400.0, 'unadjustedVolume': 9112400.0, 'change': -0.27, 'changePercent': -4.232, 'vwap': 6.19333, 'label': 'May 12, 20', 'changeOverTime': -0.04232}\n{'date': '2020-05-13', 'open': 6.0, 'high': 6.04, 'low': 5.45, 'close': 5.66, 'adjClose': 5.66, 'volume': 14271100.0, 'unadjustedVolume': 14271100.0, 'change': -0.34, 'changePercent': -5.667, 'vwap': 5.71667, 'label': 'May 13, 20', 'changeOverTime': -0.05667}\n{'date': '2020-05-14', 'open': 5.49, 'high': 6.11, 'low': 5.3, 'close': 6.09, 'adjClose': 6.09, 'volume': 10204400.0, 'unadjustedVolume': 10204400.0, 'change': 0.6, 'changePercent': 10.929, 'vwap': 5.83333, 'label': 'May 14, 20', 'changeOverTime': 0.10929}\n{'date': '2020-05-15', 'open': 5.95, 'high': 6.19, 'low': 5.86, 'close': 5.91, 'adjClose': 5.91, 'volume': 9701876.0, 'unadjustedVolume': 9701876.0, 'change': -0.04, 'changePercent': -0.672, 'vwap': 5.98667, 'label': 'May 15, 20', 'changeOverTime': -0.00672}\n"
    }
   ],
   "source": [
    "residential_history = pd.DataFrame()\n",
    "\n",
    "residential_history = getCompanyHourlyPrice(residential_history, 'NRZ')"
   ]
  },
  {
   "cell_type": "code",
   "execution_count": 13,
   "metadata": {},
   "outputs": [],
   "source": [
    "len(stock_history)\n",
    "stock_history = stock_history.sort_index(axis=0, ascending=False)"
   ]
  },
  {
   "cell_type": "code",
   "execution_count": 15,
   "metadata": {},
   "outputs": [],
   "source": [
    "residential_history = residential_history.sort_index(axis=0, ascending=True)"
   ]
  },
  {
   "cell_type": "code",
   "execution_count": 14,
   "metadata": {},
   "outputs": [
    {
     "output_type": "execute_result",
     "data": {
      "text/plain": "            close      volume      vwap  changeOverTime   high    low   open\n2020-05-21  15.99  31344500.0  16.02667        -0.00436  16.44  15.65  16.06\n2020-05-20  16.50  37198300.0  16.26000         0.04364  16.58  15.70  15.81\n2020-05-19  15.16  24387300.0  15.16333        -0.01173  15.69  14.64  15.34\n2020-05-18  15.31  32223400.0  15.08667         0.03098  15.42  14.53  14.85\n2020-05-15  13.85  25530400.0  13.70667         0.03281  14.07  13.20  13.41",
      "text/html": "<div>\n<style scoped>\n    .dataframe tbody tr th:only-of-type {\n        vertical-align: middle;\n    }\n\n    .dataframe tbody tr th {\n        vertical-align: top;\n    }\n\n    .dataframe thead th {\n        text-align: right;\n    }\n</style>\n<table border=\"1\" class=\"dataframe\">\n  <thead>\n    <tr style=\"text-align: right;\">\n      <th></th>\n      <th>close</th>\n      <th>volume</th>\n      <th>vwap</th>\n      <th>changeOverTime</th>\n      <th>high</th>\n      <th>low</th>\n      <th>open</th>\n    </tr>\n  </thead>\n  <tbody>\n    <tr>\n      <td>2020-05-21</td>\n      <td>15.99</td>\n      <td>31344500.0</td>\n      <td>16.02667</td>\n      <td>-0.00436</td>\n      <td>16.44</td>\n      <td>15.65</td>\n      <td>16.06</td>\n    </tr>\n    <tr>\n      <td>2020-05-20</td>\n      <td>16.50</td>\n      <td>37198300.0</td>\n      <td>16.26000</td>\n      <td>0.04364</td>\n      <td>16.58</td>\n      <td>15.70</td>\n      <td>15.81</td>\n    </tr>\n    <tr>\n      <td>2020-05-19</td>\n      <td>15.16</td>\n      <td>24387300.0</td>\n      <td>15.16333</td>\n      <td>-0.01173</td>\n      <td>15.69</td>\n      <td>14.64</td>\n      <td>15.34</td>\n    </tr>\n    <tr>\n      <td>2020-05-18</td>\n      <td>15.31</td>\n      <td>32223400.0</td>\n      <td>15.08667</td>\n      <td>0.03098</td>\n      <td>15.42</td>\n      <td>14.53</td>\n      <td>14.85</td>\n    </tr>\n    <tr>\n      <td>2020-05-15</td>\n      <td>13.85</td>\n      <td>25530400.0</td>\n      <td>13.70667</td>\n      <td>0.03281</td>\n      <td>14.07</td>\n      <td>13.20</td>\n      <td>13.41</td>\n    </tr>\n  </tbody>\n</table>\n</div>"
     },
     "metadata": {},
     "execution_count": 14
    }
   ],
   "source": [
    "stock_history.head()"
   ]
  },
  {
   "cell_type": "code",
   "execution_count": 15,
   "metadata": {},
   "outputs": [],
   "source": [
    "stock_history.to_csv('{}_history.csv'.format(stock))"
   ]
  },
  {
   "cell_type": "code",
   "execution_count": 16,
   "metadata": {},
   "outputs": [],
   "source": [
    "residential_history.to_csv('NRZ_history.csv')"
   ]
  }
 ],
 "metadata": {
  "language_info": {
   "name": "python",
   "codemirror_mode": {
    "name": "ipython",
    "version": 3
   },
   "version": "3.7.4-final"
  },
  "orig_nbformat": 2,
  "file_extension": ".py",
  "mimetype": "text/x-python",
  "name": "python",
  "npconvert_exporter": "python",
  "pygments_lexer": "ipython3",
  "version": 3,
  "kernelspec": {
   "name": "python3",
   "display_name": "Python 3"
  }
 },
 "nbformat": 4,
 "nbformat_minor": 2
}