{
 "nbformat": 4,
 "nbformat_minor": 2,
 "metadata": {
  "language_info": {
   "name": "python",
   "codemirror_mode": {
    "name": "ipython",
    "version": 3
   },
   "version": "3.7.4-final"
  },
  "orig_nbformat": 2,
  "file_extension": ".py",
  "mimetype": "text/x-python",
  "name": "python",
  "npconvert_exporter": "python",
  "pygments_lexer": "ipython3",
  "version": 3,
  "kernelspec": {
   "name": "python3",
   "display_name": "Python 3"
  }
 },
 "cells": [
  {
   "cell_type": "code",
   "execution_count": 21,
   "metadata": {},
   "outputs": [
    {
     "output_type": "execute_result",
     "data": {
      "text/plain": "                       Name                  Sector\nSymbol                                             \nMMM              3M Company             Industrials\nAOS         A.O. Smith Corp             Industrials\nABT     Abbott Laboratories             Health Care\nABBV            AbbVie Inc.             Health Care\nACN           Accenture plc  Information Technology",
      "text/html": "<div>\n<style scoped>\n    .dataframe tbody tr th:only-of-type {\n        vertical-align: middle;\n    }\n\n    .dataframe tbody tr th {\n        vertical-align: top;\n    }\n\n    .dataframe thead th {\n        text-align: right;\n    }\n</style>\n<table border=\"1\" class=\"dataframe\">\n  <thead>\n    <tr style=\"text-align: right;\">\n      <th></th>\n      <th>Name</th>\n      <th>Sector</th>\n    </tr>\n    <tr>\n      <th>Symbol</th>\n      <th></th>\n      <th></th>\n    </tr>\n  </thead>\n  <tbody>\n    <tr>\n      <td>MMM</td>\n      <td>3M Company</td>\n      <td>Industrials</td>\n    </tr>\n    <tr>\n      <td>AOS</td>\n      <td>A.O. Smith Corp</td>\n      <td>Industrials</td>\n    </tr>\n    <tr>\n      <td>ABT</td>\n      <td>Abbott Laboratories</td>\n      <td>Health Care</td>\n    </tr>\n    <tr>\n      <td>ABBV</td>\n      <td>AbbVie Inc.</td>\n      <td>Health Care</td>\n    </tr>\n    <tr>\n      <td>ACN</td>\n      <td>Accenture plc</td>\n      <td>Information Technology</td>\n    </tr>\n  </tbody>\n</table>\n</div>"
     },
     "metadata": {},
     "execution_count": 21
    }
   ],
   "source": [
    "import pandas as pd \n",
    "import requests\n",
    "import json\n",
    "\n",
    "financial_url = 'https://financialmodelingprep.com/api/v3/'\n",
    "\n",
    "sp = pd.read_csv('../data/constituents.csv', index_col='Symbol')\n",
    "\n",
    "sp.head()"
   ]
  },
  {
   "cell_type": "code",
   "execution_count": 22,
   "metadata": {},
   "outputs": [
    {
     "output_type": "stream",
     "name": "stdout",
     "text": "<class 'pandas.core.series.Series'>\n<class 'pandas.core.series.Series'>\n<class 'pandas.core.series.Series'>\n<class 'pandas.core.series.Series'>\n<class 'pandas.core.series.Series'>\n<class 'pandas.core.series.Series'>\n"
    }
   ],
   "source": [
    "resp = requests.request('GET', financial_url + 'company/profile/{}'.format(sp.iloc[0].name))\n",
    "\n",
    "def setCompanyProfile(series, companyProfile):\n",
    "    series['price'] = companyProfile['price']\n",
    "    series['beta'] = companyProfile['beta']\n",
    "    series['mktCap'] = companyProfile['mktCap']\n",
    "    series['lastDiv'] = companyProfile['lastDiv']\n",
    "    return series\n",
    "\n",
    "for index in sp.index[:1]:\n",
    "    resp = requests.request('GET', financial_url + 'company/profile/{}'.format(index))\n",
    "    if (resp.text != None):\n",
    "        jsonResp = json.loads(resp.text)\n",
    "        companyProfile = jsonResp['profile']\n",
    "        resultFrame = setCompanyProfile(sp.loc[sp.index == index], companyProfile)\n",
    "        for i, v in resultFrame.iteritems():\n",
    "           print(v)"
   ]
  },
  {
   "cell_type": "code",
   "execution_count": 13,
   "metadata": {},
   "outputs": [
    {
     "output_type": "execute_result",
     "data": {
      "text/plain": "                       Name                  Sector    price     beta  \\\nSymbol                                                                  \nMMM                 lastDiv                 lastDiv  lastDiv  lastDiv   \nAOS         A.O. Smith Corp             Industrials      NaN      NaN   \nABT     Abbott Laboratories             Health Care      NaN      NaN   \nABBV            AbbVie Inc.             Health Care      NaN      NaN   \nACN           Accenture plc  Information Technology      NaN      NaN   \n\n         mktCap  lastDiv  \nSymbol                    \nMMM     lastDiv  lastDiv  \nAOS         NaN      NaN  \nABT         NaN      NaN  \nABBV        NaN      NaN  \nACN         NaN      NaN  ",
      "text/html": "<div>\n<style scoped>\n    .dataframe tbody tr th:only-of-type {\n        vertical-align: middle;\n    }\n\n    .dataframe tbody tr th {\n        vertical-align: top;\n    }\n\n    .dataframe thead th {\n        text-align: right;\n    }\n</style>\n<table border=\"1\" class=\"dataframe\">\n  <thead>\n    <tr style=\"text-align: right;\">\n      <th></th>\n      <th>Name</th>\n      <th>Sector</th>\n      <th>price</th>\n      <th>beta</th>\n      <th>mktCap</th>\n      <th>lastDiv</th>\n    </tr>\n    <tr>\n      <th>Symbol</th>\n      <th></th>\n      <th></th>\n      <th></th>\n      <th></th>\n      <th></th>\n      <th></th>\n    </tr>\n  </thead>\n  <tbody>\n    <tr>\n      <td>MMM</td>\n      <td>lastDiv</td>\n      <td>lastDiv</td>\n      <td>lastDiv</td>\n      <td>lastDiv</td>\n      <td>lastDiv</td>\n      <td>lastDiv</td>\n    </tr>\n    <tr>\n      <td>AOS</td>\n      <td>A.O. Smith Corp</td>\n      <td>Industrials</td>\n      <td>NaN</td>\n      <td>NaN</td>\n      <td>NaN</td>\n      <td>NaN</td>\n    </tr>\n    <tr>\n      <td>ABT</td>\n      <td>Abbott Laboratories</td>\n      <td>Health Care</td>\n      <td>NaN</td>\n      <td>NaN</td>\n      <td>NaN</td>\n      <td>NaN</td>\n    </tr>\n    <tr>\n      <td>ABBV</td>\n      <td>AbbVie Inc.</td>\n      <td>Health Care</td>\n      <td>NaN</td>\n      <td>NaN</td>\n      <td>NaN</td>\n      <td>NaN</td>\n    </tr>\n    <tr>\n      <td>ACN</td>\n      <td>Accenture plc</td>\n      <td>Information Technology</td>\n      <td>NaN</td>\n      <td>NaN</td>\n      <td>NaN</td>\n      <td>NaN</td>\n    </tr>\n  </tbody>\n</table>\n</div>"
     },
     "metadata": {},
     "execution_count": 13
    }
   ],
   "source": [
    "sp.head()"
   ]
  },
  {
   "cell_type": "code",
   "execution_count": null,
   "metadata": {},
   "outputs": [],
   "source": []
  }
 ]
}